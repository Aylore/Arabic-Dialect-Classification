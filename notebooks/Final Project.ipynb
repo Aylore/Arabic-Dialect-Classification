<<<<<<< HEAD
{
 "cells": [
  {
   "cell_type": "markdown",
   "metadata": {
    "id": "v-6lrKz6orxT"
   },
   "source": [
    "### Import Libraries"
   ]
  },
  {
   "cell_type": "code",
   "execution_count": 43,
   "metadata": {
    "ExecuteTime": {
     "end_time": "2023-05-14T16:53:08.379056Z",
     "start_time": "2023-05-14T16:53:08.373729Z"
    },
    "id": "eXUPo3g4orxV"
   },
   "outputs": [],
   "source": [
    "from sklearn.feature_extraction.text import CountVectorizer, TfidfVectorizer\n",
    "from sklearn.linear_model import LogisticRegression\n",
    "from sklearn.svm import LinearSVC\n",
    "from sklearn.pipeline import make_pipeline\n",
    "import re\n",
    "from sklearn import metrics\n",
    "from lightgbm import LGBMClassifier\n",
    "import tensorflow_addons as tfa\n",
    "from sklearn.preprocessing import LabelEncoder"
   ]
  },
  {
   "cell_type": "markdown",
   "metadata": {
    "id": "fG8MkuvjorxX"
   },
   "source": [
    "### Load Dataset"
   ]
  },
  {
   "cell_type": "code",
   "execution_count": 44,
   "metadata": {
    "ExecuteTime": {
     "end_time": "2023-05-14T16:53:11.400625Z",
     "start_time": "2023-05-14T16:53:11.397238Z"
    }
   },
   "outputs": [],
   "source": [
    "import sqlite3\n",
    "import pandas as pd"
   ]
  },
  {
   "cell_type": "code",
   "execution_count": 50,
   "metadata": {
    "ExecuteTime": {
     "end_time": "2023-05-14T16:53:27.915561Z",
     "start_time": "2023-05-14T16:53:27.402739Z"
    },
    "id": "BYeqhp66orxY"
   },
   "outputs": [],
   "source": [
    "conn = sqlite3.connect(\"../data/dialects_database.db\")\n",
    "df_label = pd.read_sql_query(\"SELECT * FROM id_text\", conn)\n",
    "df_target = pd.read_sql_query(\"SELECT * FROM id_dialect\", conn)\n",
    "df = pd.merge(df_label, df_target, on=\"id\")\n",
    "conn.close()"
   ]
  },
  {
   "cell_type": "markdown",
   "metadata": {},
   "source": [
    "**Save as csv**"
   ]
  },
  {
   "cell_type": "code",
   "execution_count": 46,
   "metadata": {
    "ExecuteTime": {
     "end_time": "2023-05-14T16:53:15.981149Z",
     "start_time": "2023-05-14T16:53:15.467484Z"
    }
   },
   "outputs": [],
   "source": [
    "df.to_csv('../data/dialects.csv')"
   ]
  },
  {
   "cell_type": "markdown",
   "metadata": {
    "ExecuteTime": {
     "end_time": "2023-05-14T13:02:46.402106Z",
     "start_time": "2023-05-14T13:02:46.396971Z"
    }
   },
   "source": [
    "**Read csv file**"
   ]
  },
  {
   "cell_type": "code",
   "execution_count": 47,
   "metadata": {
    "ExecuteTime": {
     "end_time": "2023-05-14T16:53:17.568734Z",
     "start_time": "2023-05-14T16:53:17.563877Z"
    }
   },
   "outputs": [],
   "source": [
    "import csv"
   ]
  },
  {
   "cell_type": "code",
   "execution_count": 49,
   "metadata": {
    "ExecuteTime": {
     "end_time": "2023-05-14T16:53:25.732037Z",
     "start_time": "2023-05-14T16:53:25.724782Z"
    }
   },
   "outputs": [],
   "source": [
    "# ls = [row[1:] for row in csv.reader(open('../data/dialects.csv'))]\n",
    "# df = pd.DataFrame(ls)\n",
    "# df.columns = df.iloc[0]\n",
    "# df = df.drop(0, axis=0)\n",
    "# df"
   ]
  },
  {
   "cell_type": "markdown",
   "metadata": {
    "ExecuteTime": {
     "end_time": "2023-05-13T22:28:04.387683Z",
     "start_time": "2023-05-13T22:28:04.382688Z"
    }
   },
   "source": [
    "# Deep Learning"
   ]
  },
  {
   "cell_type": "code",
   "execution_count": 51,
   "metadata": {
    "ExecuteTime": {
     "end_time": "2023-05-14T16:53:31.867210Z",
     "start_time": "2023-05-14T16:53:31.861710Z"
    }
   },
   "outputs": [],
   "source": [
    "import tensorflow as tf\n",
    "from tensorflow.keras.preprocessing.text import Tokenizer\n",
    "from tensorflow.keras.preprocessing import sequence\n",
    "from tensorflow.keras.utils import to_categorical\n",
    "from sklearn.model_selection import train_test_split"
   ]
  },
  {
   "cell_type": "code",
   "execution_count": 52,
   "metadata": {
    "ExecuteTime": {
     "end_time": "2023-05-14T16:53:33.723852Z",
     "start_time": "2023-05-14T16:53:33.529386Z"
    }
   },
   "outputs": [],
   "source": [
    "X = df[\"text\"]\n",
    "y = df[\"dialect\"]\n",
    "X_train, X_test, y_train, y_test = train_test_split(X, y, test_size=0.1, random_state=42, stratify=y)"
   ]
  },
  {
   "cell_type": "code",
   "execution_count": 53,
   "metadata": {
    "ExecuteTime": {
     "end_time": "2023-05-14T16:53:36.558344Z",
     "start_time": "2023-05-14T16:53:36.506764Z"
    }
   },
   "outputs": [],
   "source": [
    "NUM_CLASSES = 5\n",
    "EPOCHS = 5\n",
    "BATCH_SIZE = 32\n",
    "MAX_WORDS = 10_000\n",
    "INPUT_LENGTH = MAX_SEQUENCE_LEN = max(len(sentence) for sentence in X_train)"
   ]
  },
  {
   "cell_type": "code",
   "execution_count": 54,
   "metadata": {
    "ExecuteTime": {
     "end_time": "2023-05-14T16:53:49.630169Z",
     "start_time": "2023-05-14T16:53:43.974106Z"
    }
   },
   "outputs": [],
   "source": [
    "def wrangle_dl(df):\n",
    "    #spilt \n",
    "    X = df[\"text\"]\n",
    "    y = df[\"dialect\"]\n",
    "    X_train, X_test, y_train, y_test = train_test_split(X, y, test_size=0.1, random_state=42, stratify=y)\n",
    "    \n",
    "    #preprocess\n",
    "    le = LabelEncoder()\n",
    "    y_train = le.fit_transform(y_train)\n",
    "    y_test = le.transform(y_test)\n",
    "    \n",
    "    tok = Tokenizer(num_words=MAX_WORDS)\n",
    "    tok.fit_on_texts(X_train)\n",
    "\n",
    "    sequences = tok.texts_to_sequences(X_train)\n",
    "    X_train_padded = sequence.pad_sequences(sequences, maxlen=MAX_SEQUENCE_LEN)\n",
    "    y_train_ = to_categorical(y_train)\n",
    "\n",
    "    test_sequences = tok.texts_to_sequences(X_test)\n",
    "    X_test_padded = sequence.pad_sequences(test_sequences, maxlen=MAX_SEQUENCE_LEN)\n",
    "    y_test_ = to_categorical(y_test)\n",
    "\n",
    "    return X_train_padded, X_test_padded, y_train_, y_test_\n",
    "\n",
    "\n",
    "X_train, X_test, y_train, y_test = wrangle_dl(df)"
   ]
  },
  {
   "cell_type": "code",
   "execution_count": 36,
   "metadata": {
    "ExecuteTime": {
     "end_time": "2023-05-14T16:20:59.673636Z",
     "start_time": "2023-05-14T16:20:59.520027Z"
    }
   },
   "outputs": [
    {
     "name": "stdout",
     "output_type": "stream",
     "text": [
      "Model: \"sequential_3\"\n",
      "_________________________________________________________________\n",
      " Layer (type)                Output Shape              Param #   \n",
      "=================================================================\n",
      " embedding_3 (Embedding)     (None, 698, 64)           640000    \n",
      "                                                                 \n",
      " lstm_1 (LSTM)               (None, 64)                33024     \n",
      "                                                                 \n",
      " dense_4 (Dense)             (None, 5)                 325       \n",
      "                                                                 \n",
      "=================================================================\n",
      "Total params: 673,349\n",
      "Trainable params: 673,349\n",
      "Non-trainable params: 0\n",
      "_________________________________________________________________\n"
     ]
    }
   ],
   "source": [
    "model = tf.keras.models.Sequential([\n",
    "    tf.keras.layers.Embedding(MAX_WORDS, 64, input_length=INPUT_LENGTH),\n",
    "    tf.keras.layers.LSTM(64),\n",
    "#     tf.keras.layers.Dense(64, activation='relu'),\n",
    "    tf.keras.layers.Dense(NUM_CLASSES, activation='softmax')\n",
    "])\n",
    "\n",
    "model.summary()"
   ]
  },
  {
   "cell_type": "code",
   "execution_count": 37,
   "metadata": {
    "ExecuteTime": {
     "end_time": "2023-05-14T16:21:02.192075Z",
     "start_time": "2023-05-14T16:21:02.171097Z"
    }
   },
   "outputs": [],
   "source": [
    "model.compile(loss=tf.keras.losses.CategoricalCrossentropy(),\n",
    "              optimizer=tf.keras.optimizers.Adam(),\n",
    "              metrics=['accuracy', tfa.metrics.F1Score(average='macro', num_classes=NUM_CLASSES)])"
   ]
  },
  {
   "cell_type": "code",
   "execution_count": 38,
   "metadata": {
    "ExecuteTime": {
     "end_time": "2023-05-14T16:39:06.979248Z",
     "start_time": "2023-05-14T16:21:02.732878Z"
    }
   },
   "outputs": [
    {
     "name": "stdout",
     "output_type": "stream",
     "text": [
      "4155/4155 [==============================] - 1084s 261ms/step - loss: 0.5482 - accuracy: 0.8039 - f1_score: 0.7618\n"
     ]
    }
   ],
   "source": [
    "history = model.fit(X_train, y_train, epochs=1, batch_size=BATCH_SIZE)"
   ]
  },
  {
   "cell_type": "code",
   "execution_count": 39,
   "metadata": {
    "ExecuteTime": {
     "end_time": "2023-05-14T16:39:57.055981Z",
     "start_time": "2023-05-14T16:39:10.320081Z"
    }
   },
   "outputs": [
    {
     "name": "stdout",
     "output_type": "stream",
     "text": [
      "462/462 [==============================] - 47s 100ms/step - loss: 0.4510 - accuracy: 0.8417 - f1_score: 0.8115\n",
      "F1 score for testing : 0.8114644885063171\n"
     ]
    }
   ],
   "source": [
    "print(f'F1 score for testing : {model.evaluate(X_test, y_test)[2]}')"
   ]
  },
  {
   "cell_type": "code",
   "execution_count": 41,
   "metadata": {
    "ExecuteTime": {
     "end_time": "2023-05-14T16:40:07.520440Z",
     "start_time": "2023-05-14T16:40:04.985454Z"
    }
   },
   "outputs": [
    {
     "name": "stderr",
     "output_type": "stream",
     "text": [
      "WARNING:absl:Found untraced functions such as lstm_cell_1_layer_call_fn, lstm_cell_1_layer_call_and_return_conditional_losses while saving (showing 2 of 2). These functions will not be directly callable after loading.\n"
     ]
    },
    {
     "name": "stdout",
     "output_type": "stream",
     "text": [
      "INFO:tensorflow:Assets written to: ../models/LSTM/assets\n"
     ]
    },
    {
     "name": "stderr",
     "output_type": "stream",
     "text": [
      "INFO:tensorflow:Assets written to: ../models/LSTM/assets\n"
     ]
    }
   ],
   "source": [
    "model.save('../models/LSTM')"
   ]
  },
  {
   "cell_type": "code",
   "execution_count": 42,
   "metadata": {
    "ExecuteTime": {
     "end_time": "2023-05-14T16:40:57.437417Z",
     "start_time": "2023-05-14T16:40:08.803811Z"
    }
   },
   "outputs": [
    {
     "name": "stdout",
     "output_type": "stream",
     "text": [
      "462/462 [==============================] - 47s 101ms/step - loss: 0.4510 - accuracy: 0.8417 - f1_score: 0.8115\n",
      "F1 score for testing : 0.8114644885063171\n"
     ]
    }
   ],
   "source": [
    "# model = tf.saved_model.load(\"../models/SimpleRNN/\")\n",
    "model = tf.keras.models.load_model('../models/LSTM/')\n",
    "print(f'F1 score for testing : {model.evaluate(X_test, y_test)[2]}')"
   ]
  },
  {
   "cell_type": "markdown",
   "metadata": {
    "ExecuteTime": {
     "end_time": "2023-05-14T07:44:00.576773Z",
     "start_time": "2023-05-14T07:44:00.573321Z"
    }
   },
   "source": [
    "# Machine Learning"
   ]
  },
  {
   "cell_type": "code",
   "execution_count": null,
   "metadata": {
    "ExecuteTime": {
     "end_time": "2023-05-14T16:09:22.850005Z",
     "start_time": "2023-05-14T16:09:22.849997Z"
    }
   },
   "outputs": [],
   "source": [
    "import re\n",
    "import pandas as pd\n",
    "\n",
    "\n",
    "def remove_user(text: str) -> str:\n",
    "    return re.sub(r\"@\\w+\", \" \", text)\n",
    "\n",
    "def replace_spaces(text: str) -> str:\n",
    "    return re.sub(r\"\\s+\", \" \", str(text))\n",
    "\n",
    "def preprocess(text: str) -> str:\n",
    "    text = remove_user(text)\n",
    "    text = replace_spaces(text)\n",
    "    return text\n",
    "\n",
    "def wrangle_ml(df: pd.DataFrame) -> pd.DataFrame:\n",
    "    df[\"text\"] = df[\"text\"].apply(preprocess)\n",
    "    X = df[\"text\"]\n",
    "    y = df[\"dialect\"]\n",
    "    X_train, X_test, y_train, y_test = train_test_split(X, y, test_size=0.1, random_state=42, stratify=y)\n",
    "    return X_train, X_test, y_train, y_test"
   ]
  },
  {
   "cell_type": "code",
   "execution_count": null,
   "metadata": {
    "ExecuteTime": {
     "end_time": "2023-05-14T16:09:22.851499Z",
     "start_time": "2023-05-14T16:09:22.851490Z"
    }
   },
   "outputs": [],
   "source": [
    "import nltk"
   ]
  },
  {
   "cell_type": "code",
   "execution_count": null,
   "metadata": {
    "ExecuteTime": {
     "end_time": "2023-05-14T16:09:22.854072Z",
     "start_time": "2023-05-14T16:09:22.854050Z"
    }
   },
   "outputs": [],
   "source": [
    "nltk.download('stopwords')"
   ]
  },
  {
   "cell_type": "code",
   "execution_count": null,
   "metadata": {
    "ExecuteTime": {
     "end_time": "2023-05-14T16:09:22.855813Z",
     "start_time": "2023-05-14T16:09:22.855804Z"
    }
   },
   "outputs": [],
   "source": [
    "from nltk.corpus import stopwords\n",
    "stopwords_list = stopwords.words('arabic')\n",
    "print(stopwords_list)"
   ]
  },
  {
   "cell_type": "code",
   "execution_count": null,
   "metadata": {
    "ExecuteTime": {
     "end_time": "2023-05-14T16:09:22.857628Z",
     "start_time": "2023-05-14T16:09:22.857617Z"
    }
   },
   "outputs": [],
   "source": [
    "from lightgbm import LGBMClassifier\n",
    "from xgboost import XGBClassifier\n",
    "from sklearn.linear_model import LogisticRegression\n",
    "from sklearn.ensemble import AdaBoostClassifier, HistGradientBoostingClassifier\n",
    "from sklearn.svm import LinearSVC\n",
    "from sklearn.pipeline import Pipeline\n",
    "from sklearn.feature_extraction.text import CountVectorizer, TfidfVectorizer\n",
    "import joblib\n",
    "\n",
    "def fit_ml(X_train, X_test, y_train, y_test):\n",
    "    final_model = LinearSVC(random_state=42)\n",
    "    pipe = Pipeline([(\"Vectorizer\", TfidfVectorizer(ngram_range=(1, 2), stop_words='arabic')), (\"classifier\", LinearSVC(random_state=42))])\n",
    "    pipe.fit(X_train, y_train)\n",
    "#     joblib.dump(pipe, \"models/ml_model.pkl\")\n",
    "    return pipe"
   ]
  },
  {
   "cell_type": "code",
   "execution_count": null,
   "metadata": {
    "ExecuteTime": {
     "end_time": "2023-05-14T16:09:22.859381Z",
     "start_time": "2023-05-14T16:09:22.859372Z"
    }
   },
   "outputs": [],
   "source": [
    "X_train, X_test, y_train, y_test = wrangle_ml(df)\n",
    "\n",
    "le = LabelEncoder()\n",
    "y_train_prep = le.fit_transform(y_train)\n",
    "y_test_prep = le.transform(y_train)\n",
    "\n",
    "model = fit_ml(X_train, X_test, y_train_prep, y_test_prep)"
   ]
  },
  {
   "cell_type": "code",
   "execution_count": null,
   "metadata": {
    "ExecuteTime": {
     "end_time": "2023-05-14T16:09:22.860107Z",
     "start_time": "2023-05-14T16:09:22.860099Z"
    }
   },
   "outputs": [],
   "source": [
    "from sklearn.metrics import f1_score, classification_report, classification_report\n",
    "from sklearn.preprocessing import LabelEncoder\n",
    "\n",
    "def eval_ml(pipe, X_test, y_test):\n",
    "    y_pred = pipe.predict(X_test)\n",
    "    y_pred = le.inverse_transform(y_pred)\n",
    "    print(classification_report(y_test, y_pred))\n",
    "    print(f\"ML Macro F1 score for testing: {f1_score(y_test, y_pred, average='macro')}\")"
   ]
  },
  {
   "cell_type": "code",
   "execution_count": null,
   "metadata": {
    "ExecuteTime": {
     "end_time": "2023-05-14T16:09:22.861078Z",
     "start_time": "2023-05-14T16:09:22.861070Z"
    }
   },
   "outputs": [],
   "source": [
    "eval_ml(model, X_test, y_test)"
   ]
  }
 ],
 "metadata": {
  "colab": {
   "provenance": []
  },
  "hide_input": false,
  "kernelspec": {
   "display_name": "Python 3 (ipykernel)",
   "language": "python",
   "name": "python3"
  },
  "language_info": {
   "codemirror_mode": {
    "name": "ipython",
    "version": 3
   },
   "file_extension": ".py",
   "mimetype": "text/x-python",
   "name": "python",
   "nbconvert_exporter": "python",
   "pygments_lexer": "ipython3",
   "version": "3.8.16"
  },
  "nbTranslate": {
   "displayLangs": [
    "*"
   ],
   "hotkey": "alt-t",
   "langInMainMenu": true,
   "sourceLang": "en",
   "targetLang": "fr",
   "useGoogleTranslate": true
  },
  "toc": {
   "base_numbering": 1,
   "nav_menu": {},
   "number_sections": true,
   "sideBar": true,
   "skip_h1_title": false,
   "title_cell": "Table of Contents",
   "title_sidebar": "Contents",
   "toc_cell": false,
   "toc_position": {},
   "toc_section_display": true,
   "toc_window_display": false
  },
  "varInspector": {
   "cols": {
    "lenName": 16,
    "lenType": 16,
    "lenVar": 40
   },
   "kernels_config": {
    "python": {
     "delete_cmd_postfix": "",
     "delete_cmd_prefix": "del ",
     "library": "var_list.py",
     "varRefreshCmd": "print(var_dic_list())"
    },
    "r": {
     "delete_cmd_postfix": ") ",
     "delete_cmd_prefix": "rm(",
     "library": "var_list.r",
     "varRefreshCmd": "cat(var_dic_list()) "
    }
   },
   "types_to_exclude": [
    "module",
    "function",
    "builtin_function_or_method",
    "instance",
    "_Feature"
   ],
   "window_display": false
  }
 },
 "nbformat": 4,
 "nbformat_minor": 1
}
=======
{"cells":[{"cell_type":"markdown","metadata":{"id":"v-6lrKz6orxT"},"source":["# Import Libraries"]},{"cell_type":"code","execution_count":29,"metadata":{"ExecuteTime":{"end_time":"2023-05-14T16:53:08.379056Z","start_time":"2023-05-14T16:53:08.373729Z"},"execution":{"iopub.execute_input":"2023-05-19T20:57:18.310355Z","iopub.status.busy":"2023-05-19T20:57:18.309752Z","iopub.status.idle":"2023-05-19T20:57:18.346422Z","shell.execute_reply":"2023-05-19T20:57:18.344619Z","shell.execute_reply.started":"2023-05-19T20:57:18.310308Z"},"id":"eXUPo3g4orxV","trusted":true},"outputs":[],"source":["# Built in Libraries\n","import re\n","import joblib\n","import csv\n","import sqlite3\n","from string import punctuation\n","\n","# nlp\n","import nltk\n","import jellyfish\n","import pyarabic.araby as araby\n","\n","\n","# Preprocessing\n","import pandas as pd\n","from sklearn.model_selection import train_test_split\n","from sklearn.feature_extraction.text import CountVectorizer, TfidfVectorizer\n","from sklearn.preprocessing import LabelEncoder\n","from tensorflow.keras.preprocessing.text import Tokenizer\n","from tensorflow.keras.preprocessing import sequence\n","from tensorflow.keras.utils import to_categorical\n","\n","\n","# Modeling and Evaluation\n","from sklearn.svm import LinearSVC\n","from sklearn.pipeline import Pipeline\n","from sklearn.naive_bayes import ComplementNB\n","from sklearn.metrics import f1_score, classification_report, accuracy_score\n","from tensorflow.keras.callbacks import EarlyStopping, ModelCheckpoint\n","\n","\n","# Deeplearning\n","import tensorflow as tf\n","import tensorflow_addons as tfa\n","\n","# Custom Setup\n","pd.set_option('display.max_rows', 1000)\n","pd.set_option('display.max_columns', None)\n","pd.set_option('max_colwidth', None)\n","\n","# Setting Random Seed\n","tf.random.set_seed(42)\n","tf.keras.utils.set_random_seed(42)"]},{"cell_type":"markdown","metadata":{"id":"fG8MkuvjorxX"},"source":["# Load Dataset"]},{"cell_type":"code","execution_count":2,"metadata":{"ExecuteTime":{"end_time":"2023-05-14T16:53:27.915561Z","start_time":"2023-05-14T16:53:27.402739Z"},"execution":{"iopub.execute_input":"2023-05-19T20:57:19.012458Z","iopub.status.busy":"2023-05-19T20:57:19.011992Z","iopub.status.idle":"2023-05-19T20:57:20.935399Z","shell.execute_reply":"2023-05-19T20:57:20.933999Z","shell.execute_reply.started":"2023-05-19T20:57:19.012422Z"},"id":"BYeqhp66orxY","trusted":true},"outputs":[],"source":["DATA_PATH = \"../data/dialects_database.db\"\n","conn = sqlite3.connect(DATA_PATH)\n","df_label = pd.read_sql_query(\"SELECT * FROM id_text\", conn)\n","df_target = pd.read_sql_query(\"SELECT * FROM id_dialect\", conn)\n","df = pd.merge(df_label, df_target, on=\"id\")\n","conn.close()"]},{"cell_type":"markdown","metadata":{},"source":["**Save as csv**"]},{"cell_type":"code","execution_count":3,"metadata":{"execution":{"iopub.execute_input":"2023-05-19T20:57:20.937874Z","iopub.status.busy":"2023-05-19T20:57:20.937509Z","iopub.status.idle":"2023-05-19T20:57:22.510808Z","shell.execute_reply":"2023-05-19T20:57:22.509260Z","shell.execute_reply.started":"2023-05-19T20:57:20.937843Z"},"trusted":true},"outputs":[],"source":["CSV_PATH = '../data/dialects.csv'\n","df.to_csv(CSV_PATH)"]},{"cell_type":"markdown","metadata":{"ExecuteTime":{"end_time":"2023-05-14T13:02:46.402106Z","start_time":"2023-05-14T13:02:46.396971Z"}},"source":["**Read csv file**"]},{"cell_type":"code","execution_count":4,"metadata":{"ExecuteTime":{"end_time":"2023-05-14T16:53:25.732037Z","start_time":"2023-05-14T16:53:25.724782Z"},"execution":{"iopub.execute_input":"2023-05-19T20:57:22.525597Z","iopub.status.busy":"2023-05-19T20:57:22.524313Z","iopub.status.idle":"2023-05-19T20:57:22.534873Z","shell.execute_reply":"2023-05-19T20:57:22.533585Z","shell.execute_reply.started":"2023-05-19T20:57:22.525545Z"},"trusted":true},"outputs":[],"source":["# ls = [row[1:] for row in csv.reader(open('../data/dialects.csv'))]\n","# df = pd.DataFrame(ls)\n","# df.columns = df.iloc[0]\n","# df = df.drop(0, axis=0)\n","# df"]},{"cell_type":"markdown","metadata":{},"source":["# Splitting Data"]},{"cell_type":"code","execution_count":5,"metadata":{"execution":{"iopub.execute_input":"2023-05-19T20:57:26.462209Z","iopub.status.busy":"2023-05-19T20:57:26.461698Z","iopub.status.idle":"2023-05-19T20:57:26.942745Z","shell.execute_reply":"2023-05-19T20:57:26.941763Z","shell.execute_reply.started":"2023-05-19T20:57:26.462156Z"},"trusted":true},"outputs":[],"source":["def split_source(df, test_size=0.1):\n","    df_copy = df.copy()\n","    df_copy.drop(\"id\" ,axis=1, inplace = True)\n","    df_copy.rename(columns = {\"dialect\" : \"label\"}, inplace = True)\n","    df_train, df_test = train_test_split(df_copy,\n","                                         random_state=42,\n","                                         stratify=df_copy['label'],\n","                                         test_size=test_size)\n","    return df_train, df_test\n","\n","\n","def split_train_test(df_train, df_test):\n","    X_train = df_train[['text']]\n","    y_train = df_train['label']\n","    X_test = df_test[['text']]\n","    y_test = df_test['label']\n","    return X_train, X_test, y_train, y_test\n","\n","df_train, df_test = split_source(df, test_size=0.1)\n","X_train, X_test, y_train, y_test = split_train_test(df_train, df_test)"]},{"cell_type":"markdown","metadata":{},"source":["# Machine Learning"]},{"cell_type":"markdown","metadata":{"execution":{"iopub.execute_input":"2023-05-18T20:52:00.796591Z","iopub.status.busy":"2023-05-18T20:52:00.796171Z","iopub.status.idle":"2023-05-18T20:52:00.802386Z","shell.execute_reply":"2023-05-18T20:52:00.801109Z","shell.execute_reply.started":"2023-05-18T20:52:00.796557Z"}},"source":["## Pipeline"]},{"cell_type":"code","execution_count":6,"metadata":{"execution":{"iopub.execute_input":"2023-05-19T21:12:02.864606Z","iopub.status.busy":"2023-05-19T21:12:02.863990Z","iopub.status.idle":"2023-05-19T21:12:02.885472Z","shell.execute_reply":"2023-05-19T21:12:02.883825Z","shell.execute_reply.started":"2023-05-19T21:12:02.864561Z"},"trusted":true},"outputs":[],"source":["class TextTransformer:\n","    def __init__(self):\n","        self.stop_words = set(nltk.corpus.stopwords.words(\"arabic\"))\n","        self.punctuation = punctuation + \"؟،\"\n","\n","    def replace_punctuation(self, text: str) -> str:\n","        return re.sub(rf\"[{self.punctuation}]\", \" \", text)\n","\n","    def remove_arabic_diatrics(self, text: str) -> str:\n","        text = araby.strip_tashkeel(text)\n","        text = araby.normalize_ligature(text)\n","        return text\n","\n","    def keep_arabic(self, text: str) -> str:\n","        return re.sub(r\"[^\\u0600-\\u06FF ]+\", \" \", text)\n","\n","    def remove_stop_words(self, text: str) -> str:\n","        return \" \".join(word for word in text.split() if word not in self.stop_words)\n","\n","    def replace_repeated_chars(self, text: str) -> str:\n","        return re.sub(r\"(\\w)\\1{2,}\", r\"\\1\\1\", text)\n","\n","    def preproccess_ml(self, X):\n","        X[\"text\"] = X[\"text\"].apply(self.replace_punctuation)\n","        X[\"text\"] = X[\"text\"].apply(self.remove_arabic_diatrics)\n","        X[\"text\"] = X[\"text\"].apply(self.keep_arabic)\n","        X[\"text\"] = X[\"text\"].apply(self.remove_stop_words)\n","        X[\"text\"] = X[\"text\"].apply(self.replace_repeated_chars)\n","        return X[\"text\"]\n","\n","    def fit(self, X, y=None):\n","        return self\n","\n","    def transform(self, X, y=None):\n","        X_copy = X.copy(deep=True)\n","        return self.preproccess_ml(X_copy)\n","\n","    def fit_transform(self, X, y=None):\n","        self.fit(X, y)\n","        return self.transform(X, y)"]},{"cell_type":"code","execution_count":7,"metadata":{"execution":{"iopub.execute_input":"2023-05-19T21:11:34.299783Z","iopub.status.busy":"2023-05-19T21:11:34.299351Z","iopub.status.idle":"2023-05-19T21:11:38.978766Z","shell.execute_reply":"2023-05-19T21:11:38.977498Z","shell.execute_reply.started":"2023-05-19T21:11:34.299750Z"},"trusted":true},"outputs":[{"data":{"text/html":["<div>\n","<style scoped>\n","    .dataframe tbody tr th:only-of-type {\n","        vertical-align: middle;\n","    }\n","\n","    .dataframe tbody tr th {\n","        vertical-align: top;\n","    }\n","\n","    .dataframe thead th {\n","        text-align: right;\n","    }\n","</style>\n","<table border=\"1\" class=\"dataframe\">\n","  <thead>\n","    <tr style=\"text-align: right;\">\n","      <th></th>\n","      <th>text</th>\n","    </tr>\n","  </thead>\n","  <tbody>\n","    <tr>\n","      <th>57996</th>\n","      <td>اكيد مش قصدي الموقف قذر وصعب</td>\n","    </tr>\n","    <tr>\n","      <th>12450</th>\n","      <td>بالضبط صاح عندش واجد كرعيه ناحية جمالية اللعب السلاسة عليم الله درنا كبيدة</td>\n","    </tr>\n","    <tr>\n","      <th>33429</th>\n","      <td>جابوه جماعة للتمديد اللي طلعوا ضد المؤتمر ومع البرلمان وانتي احدهم العلم اني المؤتمر وعارفه مقصر ومش قايم بواجباته صح احسن كمشة البهايم اللي مقيم بلاد برا ويجتمعوا طبرق شهور</td>\n","    </tr>\n","    <tr>\n","      <th>67600</th>\n","      <td>بتتهزأ حضرتك يبقي منين الشهره</td>\n","    </tr>\n","    <tr>\n","      <th>7528</th>\n","      <td>شرطي تبع الداخلية يقولك انا تبع القيادة العامة للجيش منعرفش مسؤل تعليم يتبع وزاره التعليم يقولك نتبع القيادة العامة الله اعلم شعب حافظ مش فاهم ابني منك لية تبي حفتر قول تابع حكومة الثني نفهمو تنقز طول التعليم للجيش الحق راهي سلاطة</td>\n","    </tr>\n","    <tr>\n","      <th>...</th>\n","      <td>...</td>\n","    </tr>\n","    <tr>\n","      <th>31078</th>\n","      <td>اللى يحبك صح هوا اللي يثبتلك حبه بتصرفاته معاك اللى يهتم فيك ومايستنى منك اي مقابل لاهتمامه اللى همه انه يشوفك فرحان ديما ويفرح معاك اللي يشوفك متضايق شي يخليكش بروحك ويقعد جمبك لين تطلع اللي انت اللي مستعد انه يدير اي شي علشانك اللي يحبك يخليكش</td>\n","    </tr>\n","    <tr>\n","      <th>110585</th>\n","      <td>ادي يعني لازم تكون طولها للبنت تتكون طويلة برأيكن مميزات البنت القصيره</td>\n","    </tr>\n","    <tr>\n","      <th>96197</th>\n","      <td>الثورجية ماكدينلى ان مفيش حد غيرهم بيفهم فى البلد</td>\n","    </tr>\n","    <tr>\n","      <th>70427</th>\n","      <td>مش ده برضه الجهاز اللى قال ان تعداد المسيحيين فى مصر مليون طيب يطلع يقول تعدادنا كام بالظبط بعدين مش ده برضه اجهزة الدولة اللى احنا بننتقدها</td>\n","    </tr>\n","    <tr>\n","      <th>97865</th>\n","      <td>حضرتك قلت قطيع خرفان بقى</td>\n","    </tr>\n","  </tbody>\n","</table>\n","<p>132952 rows × 1 columns</p>\n","</div>"],"text/plain":["                                                                                                                                                                                                                                                         text\n","57996                                                                                                                                                                                                                            اكيد مش قصدي الموقف قذر وصعب\n","12450                                                                                                                                                                              بالضبط صاح عندش واجد كرعيه ناحية جمالية اللعب السلاسة عليم الله درنا كبيدة\n","33429                                                                           جابوه جماعة للتمديد اللي طلعوا ضد المؤتمر ومع البرلمان وانتي احدهم العلم اني المؤتمر وعارفه مقصر ومش قايم بواجباته صح احسن كمشة البهايم اللي مقيم بلاد برا ويجتمعوا طبرق شهور\n","67600                                                                                                                                                                                                                           بتتهزأ حضرتك يبقي منين الشهره\n","7528                   شرطي تبع الداخلية يقولك انا تبع القيادة العامة للجيش منعرفش مسؤل تعليم يتبع وزاره التعليم يقولك نتبع القيادة العامة الله اعلم شعب حافظ مش فاهم ابني منك لية تبي حفتر قول تابع حكومة الثني نفهمو تنقز طول التعليم للجيش الحق راهي سلاطة\n","...                                                                                                                                                                                                                                                       ...\n","31078   اللى يحبك صح هوا اللي يثبتلك حبه بتصرفاته معاك اللى يهتم فيك ومايستنى منك اي مقابل لاهتمامه اللى همه انه يشوفك فرحان ديما ويفرح معاك اللي يشوفك متضايق شي يخليكش بروحك ويقعد جمبك لين تطلع اللي انت اللي مستعد انه يدير اي شي علشانك اللي يحبك يخليكش\n","110585                                                                                                                                                                                 ادي يعني لازم تكون طولها للبنت تتكون طويلة برأيكن مميزات البنت القصيره\n","96197                                                                                                                                                                                                       الثورجية ماكدينلى ان مفيش حد غيرهم بيفهم فى البلد\n","70427                                                                                                            مش ده برضه الجهاز اللى قال ان تعداد المسيحيين فى مصر مليون طيب يطلع يقول تعدادنا كام بالظبط بعدين مش ده برضه اجهزة الدولة اللى احنا بننتقدها\n","97865                                                                                                                                                                                                                                حضرتك قلت قطيع خرفان بقى\n","\n","[132952 rows x 1 columns]"]},"execution_count":7,"metadata":{},"output_type":"execute_result"}],"source":["X_train_prepared = pd.DataFrame(TextTransformer().fit_transform(X_train, y_train))\n","X_train_prepared"]},{"cell_type":"markdown","metadata":{},"source":["## Evaluation"]},{"cell_type":"code","execution_count":22,"metadata":{"execution":{"iopub.execute_input":"2023-05-19T21:11:39.144328Z","iopub.status.busy":"2023-05-19T21:11:39.143945Z","iopub.status.idle":"2023-05-19T21:11:50.316656Z","shell.execute_reply":"2023-05-19T21:11:50.315814Z","shell.execute_reply.started":"2023-05-19T21:11:39.144298Z"},"trusted":true},"outputs":[{"data":{"text/html":["<style>#sk-container-id-4 {color: black;background-color: white;}#sk-container-id-4 pre{padding: 0;}#sk-container-id-4 div.sk-toggleable {background-color: white;}#sk-container-id-4 label.sk-toggleable__label {cursor: pointer;display: block;width: 100%;margin-bottom: 0;padding: 0.3em;box-sizing: border-box;text-align: center;}#sk-container-id-4 label.sk-toggleable__label-arrow:before {content: \"▸\";float: left;margin-right: 0.25em;color: #696969;}#sk-container-id-4 label.sk-toggleable__label-arrow:hover:before {color: black;}#sk-container-id-4 div.sk-estimator:hover label.sk-toggleable__label-arrow:before {color: black;}#sk-container-id-4 div.sk-toggleable__content {max-height: 0;max-width: 0;overflow: hidden;text-align: left;background-color: #f0f8ff;}#sk-container-id-4 div.sk-toggleable__content pre {margin: 0.2em;color: black;border-radius: 0.25em;background-color: #f0f8ff;}#sk-container-id-4 input.sk-toggleable__control:checked~div.sk-toggleable__content {max-height: 200px;max-width: 100%;overflow: auto;}#sk-container-id-4 input.sk-toggleable__control:checked~label.sk-toggleable__label-arrow:before {content: \"▾\";}#sk-container-id-4 div.sk-estimator input.sk-toggleable__control:checked~label.sk-toggleable__label {background-color: #d4ebff;}#sk-container-id-4 div.sk-label input.sk-toggleable__control:checked~label.sk-toggleable__label {background-color: #d4ebff;}#sk-container-id-4 input.sk-hidden--visually {border: 0;clip: rect(1px 1px 1px 1px);clip: rect(1px, 1px, 1px, 1px);height: 1px;margin: -1px;overflow: hidden;padding: 0;position: absolute;width: 1px;}#sk-container-id-4 div.sk-estimator {font-family: monospace;background-color: #f0f8ff;border: 1px dotted black;border-radius: 0.25em;box-sizing: border-box;margin-bottom: 0.5em;}#sk-container-id-4 div.sk-estimator:hover {background-color: #d4ebff;}#sk-container-id-4 div.sk-parallel-item::after {content: \"\";width: 100%;border-bottom: 1px solid gray;flex-grow: 1;}#sk-container-id-4 div.sk-label:hover label.sk-toggleable__label {background-color: #d4ebff;}#sk-container-id-4 div.sk-serial::before {content: \"\";position: absolute;border-left: 1px solid gray;box-sizing: border-box;top: 0;bottom: 0;left: 50%;z-index: 0;}#sk-container-id-4 div.sk-serial {display: flex;flex-direction: column;align-items: center;background-color: white;padding-right: 0.2em;padding-left: 0.2em;position: relative;}#sk-container-id-4 div.sk-item {position: relative;z-index: 1;}#sk-container-id-4 div.sk-parallel {display: flex;align-items: stretch;justify-content: center;background-color: white;position: relative;}#sk-container-id-4 div.sk-item::before, #sk-container-id-4 div.sk-parallel-item::before {content: \"\";position: absolute;border-left: 1px solid gray;box-sizing: border-box;top: 0;bottom: 0;left: 50%;z-index: -1;}#sk-container-id-4 div.sk-parallel-item {display: flex;flex-direction: column;z-index: 1;position: relative;background-color: white;}#sk-container-id-4 div.sk-parallel-item:first-child::after {align-self: flex-end;width: 50%;}#sk-container-id-4 div.sk-parallel-item:last-child::after {align-self: flex-start;width: 50%;}#sk-container-id-4 div.sk-parallel-item:only-child::after {width: 0;}#sk-container-id-4 div.sk-dashed-wrapped {border: 1px dashed gray;margin: 0 0.4em 0.5em 0.4em;box-sizing: border-box;padding-bottom: 0.4em;background-color: white;}#sk-container-id-4 div.sk-label label {font-family: monospace;font-weight: bold;display: inline-block;line-height: 1.2em;}#sk-container-id-4 div.sk-label-container {text-align: center;}#sk-container-id-4 div.sk-container {/* jupyter's `normalize.less` sets `[hidden] { display: none; }` but bootstrap.min.css set `[hidden] { display: none !important; }` so we also need the `!important` here to be able to override the default hidden behavior on the sphinx rendered scikit-learn.org. See: https://github.com/scikit-learn/scikit-learn/issues/21755 */display: inline-block !important;position: relative;}#sk-container-id-4 div.sk-text-repr-fallback {display: none;}</style><div id=\"sk-container-id-4\" class=\"sk-top-container\"><div class=\"sk-text-repr-fallback\"><pre>Pipeline(steps=[(&#x27;transformer&#x27;,\n","                 &lt;__main__.TextTransformer object at 0x7fa6f4801b80&gt;),\n","                (&#x27;tfidf&#x27;, TfidfVectorizer(ngram_range=(1, 2))),\n","                (&#x27;classifier&#x27;, ComplementNB(alpha=0.3))])</pre><b>In a Jupyter environment, please rerun this cell to show the HTML representation or trust the notebook. <br />On GitHub, the HTML representation is unable to render, please try loading this page with nbviewer.org.</b></div><div class=\"sk-container\" hidden><div class=\"sk-item sk-dashed-wrapped\"><div class=\"sk-label-container\"><div class=\"sk-label sk-toggleable\"><input class=\"sk-toggleable__control sk-hidden--visually\" id=\"sk-estimator-id-13\" type=\"checkbox\" ><label for=\"sk-estimator-id-13\" class=\"sk-toggleable__label sk-toggleable__label-arrow\">Pipeline</label><div class=\"sk-toggleable__content\"><pre>Pipeline(steps=[(&#x27;transformer&#x27;,\n","                 &lt;__main__.TextTransformer object at 0x7fa6f4801b80&gt;),\n","                (&#x27;tfidf&#x27;, TfidfVectorizer(ngram_range=(1, 2))),\n","                (&#x27;classifier&#x27;, ComplementNB(alpha=0.3))])</pre></div></div></div><div class=\"sk-serial\"><div class=\"sk-item\"><div class=\"sk-estimator sk-toggleable\"><input class=\"sk-toggleable__control sk-hidden--visually\" id=\"sk-estimator-id-14\" type=\"checkbox\" ><label for=\"sk-estimator-id-14\" class=\"sk-toggleable__label sk-toggleable__label-arrow\">TextTransformer</label><div class=\"sk-toggleable__content\"><pre>&lt;__main__.TextTransformer object at 0x7fa6f4801b80&gt;</pre></div></div></div><div class=\"sk-item\"><div class=\"sk-estimator sk-toggleable\"><input class=\"sk-toggleable__control sk-hidden--visually\" id=\"sk-estimator-id-15\" type=\"checkbox\" ><label for=\"sk-estimator-id-15\" class=\"sk-toggleable__label sk-toggleable__label-arrow\">TfidfVectorizer</label><div class=\"sk-toggleable__content\"><pre>TfidfVectorizer(ngram_range=(1, 2))</pre></div></div></div><div class=\"sk-item\"><div class=\"sk-estimator sk-toggleable\"><input class=\"sk-toggleable__control sk-hidden--visually\" id=\"sk-estimator-id-16\" type=\"checkbox\" ><label for=\"sk-estimator-id-16\" class=\"sk-toggleable__label sk-toggleable__label-arrow\">ComplementNB</label><div class=\"sk-toggleable__content\"><pre>ComplementNB(alpha=0.3)</pre></div></div></div></div></div></div></div>"],"text/plain":["Pipeline(steps=[('transformer',\n","                 <__main__.TextTransformer object at 0x7fa6f4801b80>),\n","                ('tfidf', TfidfVectorizer(ngram_range=(1, 2))),\n","                ('classifier', ComplementNB(alpha=0.3))])"]},"execution_count":22,"metadata":{},"output_type":"execute_result"}],"source":["final_model = ComplementNB(alpha=0.3)\n","\n","ml_pipeline = Pipeline(\n","    [\n","        ('transformer', TextTransformer()),\n","        ('tfidf', TfidfVectorizer(ngram_range=(1, 2))),\n","        ('classifier', final_model)\n","    ]\n",")\n","\n","ml_pipeline.fit(X_train, y_train)"]},{"cell_type":"code","execution_count":23,"metadata":{"execution":{"iopub.execute_input":"2023-05-19T21:11:50.318725Z","iopub.status.busy":"2023-05-19T21:11:50.318086Z","iopub.status.idle":"2023-05-19T21:11:50.325107Z","shell.execute_reply":"2023-05-19T21:11:50.323875Z","shell.execute_reply.started":"2023-05-19T21:11:50.318684Z"},"trusted":true},"outputs":[],"source":["def eval_ml(pipe, X_test, y_test):\n","    y_pred = pipe.predict(X_test)\n","    print(classification_report(y_test, y_pred))\n","    print(f\"Testing ML:\\nAccuracy: {accuracy_score(y_test, y_pred)}\")\n","    print(f\"ML Macro F1 score for testing: {f1_score(y_test, y_pred, average='macro')}\")"]},{"cell_type":"code","execution_count":24,"metadata":{"execution":{"iopub.execute_input":"2023-05-19T21:11:50.327515Z","iopub.status.busy":"2023-05-19T21:11:50.327017Z","iopub.status.idle":"2023-05-19T21:11:52.336634Z","shell.execute_reply":"2023-05-19T21:11:52.335258Z","shell.execute_reply.started":"2023-05-19T21:11:50.327473Z"},"trusted":true},"outputs":[{"name":"stdout","output_type":"stream","text":["              precision    recall  f1-score   support\n","\n","          EG       0.81      0.96      0.88      5764\n","          LB       0.88      0.88      0.88      2762\n","          LY       0.87      0.81      0.84      3650\n","          MA       0.89      0.69      0.78      1154\n","          SD       0.87      0.54      0.67      1443\n","\n","    accuracy                           0.84     14773\n","   macro avg       0.86      0.77      0.81     14773\n","weighted avg       0.85      0.84      0.84     14773\n","\n","Testing ML:\n","Accuracy: 0.8441751844581331\n","ML Macro F1 score for testing: 0.8071802563622406\n"]}],"source":["eval_ml(ml_pipeline, X_test, y_test)"]},{"cell_type":"code","execution_count":26,"metadata":{"execution":{"iopub.execute_input":"2023-05-19T21:11:52.338930Z","iopub.status.busy":"2023-05-19T21:11:52.338432Z","iopub.status.idle":"2023-05-19T21:11:52.347364Z","shell.execute_reply":"2023-05-19T21:11:52.345547Z","shell.execute_reply.started":"2023-05-19T21:11:52.338882Z"},"trusted":true},"outputs":[],"source":["ML_MODEL_PATH = '../models/complement_nb.pkl'\n","\n","def save_ml_model(model, path=ML_MODEL_PATH):\n","    joblib.dump(model, path)\n","    \n","def load_ml_model(path=ML_MODEL_PATH):\n","    model = joblib.load(path)\n","    return model"]},{"cell_type":"code","execution_count":27,"metadata":{"execution":{"iopub.execute_input":"2023-05-19T19:53:05.336353Z","iopub.status.busy":"2023-05-19T19:53:05.335837Z","iopub.status.idle":"2023-05-19T19:53:09.525127Z","shell.execute_reply":"2023-05-19T19:53:09.523698Z","shell.execute_reply.started":"2023-05-19T19:53:05.336315Z"},"trusted":true},"outputs":[{"data":{"text/html":["<style>#sk-container-id-5 {color: black;background-color: white;}#sk-container-id-5 pre{padding: 0;}#sk-container-id-5 div.sk-toggleable {background-color: white;}#sk-container-id-5 label.sk-toggleable__label {cursor: pointer;display: block;width: 100%;margin-bottom: 0;padding: 0.3em;box-sizing: border-box;text-align: center;}#sk-container-id-5 label.sk-toggleable__label-arrow:before {content: \"▸\";float: left;margin-right: 0.25em;color: #696969;}#sk-container-id-5 label.sk-toggleable__label-arrow:hover:before {color: black;}#sk-container-id-5 div.sk-estimator:hover label.sk-toggleable__label-arrow:before {color: black;}#sk-container-id-5 div.sk-toggleable__content {max-height: 0;max-width: 0;overflow: hidden;text-align: left;background-color: #f0f8ff;}#sk-container-id-5 div.sk-toggleable__content pre {margin: 0.2em;color: black;border-radius: 0.25em;background-color: #f0f8ff;}#sk-container-id-5 input.sk-toggleable__control:checked~div.sk-toggleable__content {max-height: 200px;max-width: 100%;overflow: auto;}#sk-container-id-5 input.sk-toggleable__control:checked~label.sk-toggleable__label-arrow:before {content: \"▾\";}#sk-container-id-5 div.sk-estimator input.sk-toggleable__control:checked~label.sk-toggleable__label {background-color: #d4ebff;}#sk-container-id-5 div.sk-label input.sk-toggleable__control:checked~label.sk-toggleable__label {background-color: #d4ebff;}#sk-container-id-5 input.sk-hidden--visually {border: 0;clip: rect(1px 1px 1px 1px);clip: rect(1px, 1px, 1px, 1px);height: 1px;margin: -1px;overflow: hidden;padding: 0;position: absolute;width: 1px;}#sk-container-id-5 div.sk-estimator {font-family: monospace;background-color: #f0f8ff;border: 1px dotted black;border-radius: 0.25em;box-sizing: border-box;margin-bottom: 0.5em;}#sk-container-id-5 div.sk-estimator:hover {background-color: #d4ebff;}#sk-container-id-5 div.sk-parallel-item::after {content: \"\";width: 100%;border-bottom: 1px solid gray;flex-grow: 1;}#sk-container-id-5 div.sk-label:hover label.sk-toggleable__label {background-color: #d4ebff;}#sk-container-id-5 div.sk-serial::before {content: \"\";position: absolute;border-left: 1px solid gray;box-sizing: border-box;top: 0;bottom: 0;left: 50%;z-index: 0;}#sk-container-id-5 div.sk-serial {display: flex;flex-direction: column;align-items: center;background-color: white;padding-right: 0.2em;padding-left: 0.2em;position: relative;}#sk-container-id-5 div.sk-item {position: relative;z-index: 1;}#sk-container-id-5 div.sk-parallel {display: flex;align-items: stretch;justify-content: center;background-color: white;position: relative;}#sk-container-id-5 div.sk-item::before, #sk-container-id-5 div.sk-parallel-item::before {content: \"\";position: absolute;border-left: 1px solid gray;box-sizing: border-box;top: 0;bottom: 0;left: 50%;z-index: -1;}#sk-container-id-5 div.sk-parallel-item {display: flex;flex-direction: column;z-index: 1;position: relative;background-color: white;}#sk-container-id-5 div.sk-parallel-item:first-child::after {align-self: flex-end;width: 50%;}#sk-container-id-5 div.sk-parallel-item:last-child::after {align-self: flex-start;width: 50%;}#sk-container-id-5 div.sk-parallel-item:only-child::after {width: 0;}#sk-container-id-5 div.sk-dashed-wrapped {border: 1px dashed gray;margin: 0 0.4em 0.5em 0.4em;box-sizing: border-box;padding-bottom: 0.4em;background-color: white;}#sk-container-id-5 div.sk-label label {font-family: monospace;font-weight: bold;display: inline-block;line-height: 1.2em;}#sk-container-id-5 div.sk-label-container {text-align: center;}#sk-container-id-5 div.sk-container {/* jupyter's `normalize.less` sets `[hidden] { display: none; }` but bootstrap.min.css set `[hidden] { display: none !important; }` so we also need the `!important` here to be able to override the default hidden behavior on the sphinx rendered scikit-learn.org. See: https://github.com/scikit-learn/scikit-learn/issues/21755 */display: inline-block !important;position: relative;}#sk-container-id-5 div.sk-text-repr-fallback {display: none;}</style><div id=\"sk-container-id-5\" class=\"sk-top-container\"><div class=\"sk-text-repr-fallback\"><pre>Pipeline(steps=[(&#x27;transformer&#x27;,\n","                 &lt;__main__.TextTransformer object at 0x7fa751d06b20&gt;),\n","                (&#x27;tfidf&#x27;, TfidfVectorizer(ngram_range=(1, 2))),\n","                (&#x27;classifier&#x27;, ComplementNB(alpha=0.3))])</pre><b>In a Jupyter environment, please rerun this cell to show the HTML representation or trust the notebook. <br />On GitHub, the HTML representation is unable to render, please try loading this page with nbviewer.org.</b></div><div class=\"sk-container\" hidden><div class=\"sk-item sk-dashed-wrapped\"><div class=\"sk-label-container\"><div class=\"sk-label sk-toggleable\"><input class=\"sk-toggleable__control sk-hidden--visually\" id=\"sk-estimator-id-17\" type=\"checkbox\" ><label for=\"sk-estimator-id-17\" class=\"sk-toggleable__label sk-toggleable__label-arrow\">Pipeline</label><div class=\"sk-toggleable__content\"><pre>Pipeline(steps=[(&#x27;transformer&#x27;,\n","                 &lt;__main__.TextTransformer object at 0x7fa751d06b20&gt;),\n","                (&#x27;tfidf&#x27;, TfidfVectorizer(ngram_range=(1, 2))),\n","                (&#x27;classifier&#x27;, ComplementNB(alpha=0.3))])</pre></div></div></div><div class=\"sk-serial\"><div class=\"sk-item\"><div class=\"sk-estimator sk-toggleable\"><input class=\"sk-toggleable__control sk-hidden--visually\" id=\"sk-estimator-id-18\" type=\"checkbox\" ><label for=\"sk-estimator-id-18\" class=\"sk-toggleable__label sk-toggleable__label-arrow\">TextTransformer</label><div class=\"sk-toggleable__content\"><pre>&lt;__main__.TextTransformer object at 0x7fa751d06b20&gt;</pre></div></div></div><div class=\"sk-item\"><div class=\"sk-estimator sk-toggleable\"><input class=\"sk-toggleable__control sk-hidden--visually\" id=\"sk-estimator-id-19\" type=\"checkbox\" ><label for=\"sk-estimator-id-19\" class=\"sk-toggleable__label sk-toggleable__label-arrow\">TfidfVectorizer</label><div class=\"sk-toggleable__content\"><pre>TfidfVectorizer(ngram_range=(1, 2))</pre></div></div></div><div class=\"sk-item\"><div class=\"sk-estimator sk-toggleable\"><input class=\"sk-toggleable__control sk-hidden--visually\" id=\"sk-estimator-id-20\" type=\"checkbox\" ><label for=\"sk-estimator-id-20\" class=\"sk-toggleable__label sk-toggleable__label-arrow\">ComplementNB</label><div class=\"sk-toggleable__content\"><pre>ComplementNB(alpha=0.3)</pre></div></div></div></div></div></div></div>"],"text/plain":["Pipeline(steps=[('transformer',\n","                 <__main__.TextTransformer object at 0x7fa751d06b20>),\n","                ('tfidf', TfidfVectorizer(ngram_range=(1, 2))),\n","                ('classifier', ComplementNB(alpha=0.3))])"]},"execution_count":27,"metadata":{},"output_type":"execute_result"}],"source":["save_ml_model(ml_pipeline, ML_MODEL_PATH)\n","model = load_ml_model()\n","model"]},{"cell_type":"code","execution_count":28,"metadata":{"execution":{"iopub.execute_input":"2023-05-19T21:11:14.384611Z","iopub.status.busy":"2023-05-19T21:11:14.384114Z","iopub.status.idle":"2023-05-19T21:11:16.000970Z","shell.execute_reply":"2023-05-19T21:11:15.999482Z","shell.execute_reply.started":"2023-05-19T21:11:14.384575Z"},"trusted":true},"outputs":[{"name":"stdout","output_type":"stream","text":["Dialect Prediction: EG\n","Probabily: {'EG': 0.7532890691467451, 'LB': 0.05989767370352371, 'LY': 0.05797731047325259, 'MA': 0.06386186243331841, 'SD': 0.06497408424316023}\n"]},{"data":{"text/plain":["('EG',\n"," {'EG': 0.7532890691467451,\n","  'LB': 0.05989767370352371,\n","  'LY': 0.05797731047325259,\n","  'MA': 0.06386186243331841,\n","  'SD': 0.06497408424316023})"]},"execution_count":28,"metadata":{},"output_type":"execute_result"}],"source":["sentence = \"يا جدعان\"\n","\n","def predict(sentence: str, path=ML_MODEL_PATH):\n","    model = load_ml_model(path)\n","    text = pd.DataFrame([sentence], columns=['text'])\n","    predict_label = model.predict(text)[0]\n","    predict_probabiltiy = {country: prob for country, prob in zip(model.classes_, model.predict_proba(text)[0])}\n","    print(f'Dialect Prediction: {predict_label}\\nProbabily: {predict_probabiltiy}')\n","    return predict_label, predict_probabiltiy\n","    \n","predict(sentence)"]},{"cell_type":"markdown","metadata":{"execution":{"iopub.execute_input":"2023-05-18T20:52:40.072713Z","iopub.status.busy":"2023-05-18T20:52:40.072306Z","iopub.status.idle":"2023-05-18T20:52:40.096200Z","shell.execute_reply":"2023-05-18T20:52:40.094782Z","shell.execute_reply.started":"2023-05-18T20:52:40.072659Z"}},"source":["# DeepLearning"]},{"cell_type":"code","execution_count":87,"metadata":{"execution":{"iopub.execute_input":"2023-05-19T20:18:45.819752Z","iopub.status.busy":"2023-05-19T20:18:45.819244Z","iopub.status.idle":"2023-05-19T20:18:45.827956Z","shell.execute_reply":"2023-05-19T20:18:45.826529Z","shell.execute_reply.started":"2023-05-19T20:18:45.819718Z"},"trusted":true},"outputs":[],"source":["NUM_CLASSES = 5\n","EPOCHS = 5\n","BATCH_SIZE = 32\n","MAX_WORDS = 10_000\n","INPUT_LENGTH = -1"]},{"cell_type":"code","execution_count":88,"metadata":{"execution":{"iopub.execute_input":"2023-05-19T20:18:46.609637Z","iopub.status.busy":"2023-05-19T20:18:46.608823Z","iopub.status.idle":"2023-05-19T20:19:07.427236Z","shell.execute_reply":"2023-05-19T20:19:07.426079Z","shell.execute_reply.started":"2023-05-19T20:18:46.609595Z"},"trusted":true},"outputs":[{"data":{"text/plain":["((132952, 275), (132952, 5), (14773, 275), (14773, 5))"]},"execution_count":88,"metadata":{},"output_type":"execute_result"}],"source":["def wrangle_dl(df):\n","    df_train, df_test = split_source(df)\n","    X_train, X_test, y_train, y_test = split_train_test(df_train, df_test)\n","    \n","    #preprocess\n","    X_train_prepared = TextTransformer().fit_transform(X_train, y_train)\n","    X_test_prepared = TextTransformer().transform(X_test, y_test)\n","    \n","    MAX_SEQUENCE_LEN = max(len(sentence) for sentence in X_train_prepared)\n","    global INPUT_LENGTH\n","    INPUT_LENGTH = MAX_SEQUENCE_LEN\n","    \n","    le = LabelEncoder()\n","    y_train = le.fit_transform(y_train)\n","    y_test = le.transform(y_test)\n","    \n","    tok = Tokenizer(num_words=MAX_WORDS)\n","    tok.fit_on_texts(X_train_prepared)\n","\n","    sequences = tok.texts_to_sequences(X_train_prepared)\n","    X_train_padded = sequence.pad_sequences(sequences, maxlen=MAX_SEQUENCE_LEN)\n","    y_train_ = to_categorical(y_train)\n","\n","    test_sequences = tok.texts_to_sequences(X_test_prepared)\n","    X_test_padded = sequence.pad_sequences(test_sequences, maxlen=MAX_SEQUENCE_LEN)\n","    y_test_ = to_categorical(y_test)\n","\n","    return X_train_padded, X_test_padded, y_train_, y_test_\n","\n","\n","\n","X_train_dl, X_test_dl, y_train_dl, y_test_dl = wrangle_dl(df)\n","X_train_dl.shape, y_train_dl.shape, X_test_dl.shape, y_test_dl.shape"]},{"cell_type":"code","execution_count":89,"metadata":{"execution":{"iopub.execute_input":"2023-05-19T20:19:07.439464Z","iopub.status.busy":"2023-05-19T20:19:07.439088Z","iopub.status.idle":"2023-05-19T20:19:09.068698Z","shell.execute_reply":"2023-05-19T20:19:09.067106Z","shell.execute_reply.started":"2023-05-19T20:19:07.439433Z"},"trusted":true},"outputs":[{"name":"stdout","output_type":"stream","text":["Model: \"sequential_2\"\n","_________________________________________________________________\n"," Layer (type)                Output Shape              Param #   \n","=================================================================\n"," embedding_2 (Embedding)     (None, 275, 64)           640000    \n","                                                                 \n"," lstm_2 (LSTM)               (None, 64)                33024     \n","                                                                 \n"," dense_3 (Dense)             (None, 5)                 325       \n","                                                                 \n","=================================================================\n","Total params: 673,349\n","Trainable params: 673,349\n","Non-trainable params: 0\n","_________________________________________________________________\n"]}],"source":["model = tf.keras.models.Sequential([\n","    tf.keras.layers.Embedding(MAX_WORDS, 64, input_length=INPUT_LENGTH),\n","    tf.keras.layers.LSTM(64),\n","    tf.keras.layers.Dense(64, activation='relu'),\n","    tf.keras.layers.Dense(NUM_CLASSES, activation='softmax')\n","])\n","\n","model.summary()"]},{"cell_type":"code","execution_count":90,"metadata":{"execution":{"iopub.execute_input":"2023-05-19T20:19:09.071597Z","iopub.status.busy":"2023-05-19T20:19:09.071199Z","iopub.status.idle":"2023-05-19T20:19:09.102716Z","shell.execute_reply":"2023-05-19T20:19:09.101472Z","shell.execute_reply.started":"2023-05-19T20:19:09.071566Z"},"trusted":true},"outputs":[],"source":["model.compile(loss=tf.keras.losses.CategoricalCrossentropy(),\n","              optimizer=tf.keras.optimizers.Adam(),\n","              metrics=['accuracy', tfa.metrics.F1Score(average='macro', num_classes=NUM_CLASSES)])"]},{"cell_type":"code","execution_count":91,"metadata":{"execution":{"iopub.execute_input":"2023-05-19T20:19:09.104929Z","iopub.status.busy":"2023-05-19T20:19:09.104265Z","iopub.status.idle":"2023-05-19T20:43:47.989592Z","shell.execute_reply":"2023-05-19T20:43:47.986795Z","shell.execute_reply.started":"2023-05-19T20:19:09.104891Z"},"trusted":true},"outputs":[{"name":"stdout","output_type":"stream","text":["Epoch 1/5\n"]}],"source":["history = model.fit(X_train_dl, y_train_dl, epochs=EPOCHS, batch_size=BATCH_SIZE)"]},{"cell_type":"code","execution_count":null,"metadata":{"execution":{"iopub.execute_input":"2023-05-18T22:00:08.561719Z","iopub.status.busy":"2023-05-18T22:00:08.561369Z","iopub.status.idle":"2023-05-18T22:00:12.362057Z","shell.execute_reply":"2023-05-18T22:00:12.361088Z","shell.execute_reply.started":"2023-05-18T22:00:08.561686Z"},"trusted":true},"outputs":[{"name":"stdout","output_type":"stream","text":["462/462 [==============================] - 14s 31ms/step - loss: 0.6121 - accuracy: 0.7951 - f1_score: 0.7540\n","Testing DL:\n","Accuray: 0.795099139213562\n","Macro F1 Score: 0.7539821863174438\n"]}],"source":["print(\"Testing DL:\\nAccuray: {}\\nMacro F1 Score: {}\".format(*model.evaluate(X_test_dl, y_test_dl)[1:]))"]}],"metadata":{"colab":{"provenance":[]},"hide_input":false,"kernelspec":{"display_name":"Python 3","language":"python","name":"python3"},"language_info":{"codemirror_mode":{"name":"ipython","version":3},"file_extension":".py","mimetype":"text/x-python","name":"python","nbconvert_exporter":"python","pygments_lexer":"ipython3","version":"3.8.16"},"nbTranslate":{"displayLangs":["*"],"hotkey":"alt-t","langInMainMenu":true,"sourceLang":"en","targetLang":"fr","useGoogleTranslate":true},"toc":{"base_numbering":1,"nav_menu":{},"number_sections":true,"sideBar":true,"skip_h1_title":false,"title_cell":"Table of Contents","title_sidebar":"Contents","toc_cell":false,"toc_position":{},"toc_section_display":true,"toc_window_display":false},"varInspector":{"cols":{"lenName":16,"lenType":16,"lenVar":40},"kernels_config":{"python":{"delete_cmd_postfix":"","delete_cmd_prefix":"del ","library":"var_list.py","varRefreshCmd":"print(var_dic_list())"},"r":{"delete_cmd_postfix":") ","delete_cmd_prefix":"rm(","library":"var_list.r","varRefreshCmd":"cat(var_dic_list()) "}},"types_to_exclude":["module","function","builtin_function_or_method","instance","_Feature"],"window_display":false}},"nbformat":4,"nbformat_minor":4}
>>>>>>> Deployment
