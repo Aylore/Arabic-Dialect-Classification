{
 "cells": [
  {
   "cell_type": "markdown",
   "metadata": {
    "id": "v-6lrKz6orxT"
   },
   "source": [
    "# Import Libraries"
   ]
  },
  {
   "cell_type": "code",
   "execution_count": 17,
   "metadata": {
    "ExecuteTime": {
     "end_time": "2023-05-22T17:04:00.460805Z",
     "start_time": "2023-05-22T17:04:00.444319Z"
    },
    "execution": {
     "iopub.execute_input": "2023-05-22T13:41:59.627843Z",
     "iopub.status.busy": "2023-05-22T13:41:59.627402Z",
     "iopub.status.idle": "2023-05-22T13:41:59.661314Z",
     "shell.execute_reply": "2023-05-22T13:41:59.660351Z",
     "shell.execute_reply.started": "2023-05-22T13:41:59.627813Z"
    },
    "id": "eXUPo3g4orxV"
   },
   "outputs": [],
   "source": [
    "# Built in Libraries\n",
    "import re\n",
    "import csv\n",
    "import joblib\n",
    "import sqlite3\n",
    "from string import punctuation\n",
    "\n",
    "#nlp\n",
    "import nltk\n",
    "import pyarabic.araby as araby\n",
    "\n",
    "\n",
    "# Preprocessing\n",
    "import pandas as pd\n",
    "from sklearn.model_selection import train_test_split\n",
    "from sklearn.feature_extraction.text import CountVectorizer, TfidfVectorizer\n",
    "from tensorflow.keras.preprocessing.sequence import pad_sequences\n",
    "from sklearn.preprocessing import LabelEncoder\n",
    "from tensorflow.keras.preprocessing.text import Tokenizer\n",
    "from tensorflow.keras.preprocessing import sequence\n",
    "from tensorflow.keras.utils import to_categorical\n",
    "\n",
    "\n",
    "# Modeling and Evaluation\n",
    "from sklearn.svm import LinearSVC\n",
    "from sklearn.pipeline import Pipeline\n",
    "from sklearn.naive_bayes import ComplementNB\n",
    "from sklearn.metrics import f1_score, classification_report, accuracy_score\n",
    "from tensorflow.keras.callbacks import EarlyStopping, ModelCheckpoint\n",
    "\n",
    "\n",
    "# Deeplearning\n",
    "import tensorflow as tf\n",
    "import tensorflow_addons as tfa\n",
    "\n",
    "# Custom Setup\n",
    "pd.set_option('display.max_rows', 1000)\n",
    "pd.set_option('display.max_columns', None)\n",
    "pd.set_option('max_colwidth', None)\n",
    "\n",
    "# Setting Random Seed\n",
    "tf.random.set_seed(42)\n",
    "tf.keras.utils.set_random_seed(42)"
   ]
  },
  {
   "cell_type": "markdown",
   "metadata": {
    "id": "fG8MkuvjorxX"
   },
   "source": [
    "# Load Dataset"
   ]
  },
  {
   "cell_type": "code",
   "execution_count": 18,
   "metadata": {
    "ExecuteTime": {
     "end_time": "2023-05-22T17:04:01.825069Z",
     "start_time": "2023-05-22T17:04:01.318693Z"
    },
    "execution": {
     "iopub.execute_input": "2023-05-22T12:41:09.715155Z",
     "iopub.status.busy": "2023-05-22T12:41:09.714132Z",
     "iopub.status.idle": "2023-05-22T12:41:10.661782Z",
     "shell.execute_reply": "2023-05-22T12:41:10.660842Z",
     "shell.execute_reply.started": "2023-05-22T12:41:09.715107Z"
    },
    "id": "BYeqhp66orxY"
   },
   "outputs": [],
   "source": [
    "conn = sqlite3.connect(\"../data/dialects_database.db\")\n",
    "df_label = pd.read_sql_query(\"SELECT * FROM id_text\", conn)\n",
    "df_target = pd.read_sql_query(\"SELECT * FROM id_dialect\", conn)\n",
    "df = pd.merge(df_label, df_target, on=\"id\")\n",
    "conn.close()"
   ]
  },
  {
   "cell_type": "markdown",
   "metadata": {},
   "source": [
    "# Machine Learning"
   ]
  },
  {
   "cell_type": "markdown",
   "metadata": {},
   "source": [
    "## Data Preprocessing"
   ]
  },
  {
   "cell_type": "code",
   "execution_count": 19,
   "metadata": {
    "ExecuteTime": {
     "end_time": "2023-05-22T17:04:03.152660Z",
     "start_time": "2023-05-22T17:04:03.135012Z"
    },
    "execution": {
     "iopub.execute_input": "2023-05-22T12:45:34.466936Z",
     "iopub.status.busy": "2023-05-22T12:45:34.466547Z",
     "iopub.status.idle": "2023-05-22T12:45:34.478034Z",
     "shell.execute_reply": "2023-05-22T12:45:34.477057Z",
     "shell.execute_reply.started": "2023-05-22T12:45:34.466905Z"
    }
   },
   "outputs": [],
   "source": [
    "STOP_WORDS = set(nltk.corpus.stopwords.words(\"arabic\"))\n",
    "\n",
    "def replace_punctuation(text: str) -> str:\n",
    "    added_punctuation = punctuation + \"؟،\"\n",
    "    return re.sub(rf\"[{added_punctuation}]\", \" \", text)\n",
    "\n",
    "\n",
    "def remove_arabic_diatrics(text: str) -> str:\n",
    "    text = araby.strip_tashkeel(text)\n",
    "    text = araby.normalize_ligature(text)\n",
    "    return text\n",
    "\n",
    "\n",
    "def keep_arabic(text: str) -> str:\n",
    "    return re.sub(r\"[^\\u0600-\\u06FF ]+\", \" \", text)\n",
    "\n",
    "\n",
    "def remove_stop_words(text: str) -> str:\n",
    "    return \" \".join(word for word in text.split() if word not in STOP_WORDS)\n",
    "\n",
    "\n",
    "def replace_repeated_chars(text: str) -> str:\n",
    "    return re.sub(r\"(\\w)\\1{2,}\", r\"\\1\\1\", text)\n",
    "\n",
    "\n",
    "def preprocess(text: str) -> str:\n",
    "    text = replace_punctuation(text)\n",
    "    text = remove_arabic_diatrics(text)\n",
    "    text = keep_arabic(text)\n",
    "    text = remove_stop_words(text)\n",
    "    text = replace_repeated_chars(text)\n",
    "    return text\n",
    "\n",
    "\n",
    "def wrangle_ml(df: pd.DataFrame) -> pd.DataFrame:\n",
    "    df[\"text\"] = df[\"text\"].apply(preprocess)\n",
    "    return df\n"
   ]
  },
  {
   "cell_type": "code",
   "execution_count": 20,
   "metadata": {
    "ExecuteTime": {
     "end_time": "2023-05-22T17:04:07.765965Z",
     "start_time": "2023-05-22T17:04:03.651237Z"
    },
    "execution": {
     "iopub.execute_input": "2023-05-22T12:45:35.484683Z",
     "iopub.status.busy": "2023-05-22T12:45:35.483639Z",
     "iopub.status.idle": "2023-05-22T12:45:42.638196Z",
     "shell.execute_reply": "2023-05-22T12:45:42.637196Z",
     "shell.execute_reply.started": "2023-05-22T12:45:35.484638Z"
    }
   },
   "outputs": [],
   "source": [
    "df_clean = wrangle_ml(df)"
   ]
  },
  {
   "cell_type": "markdown",
   "metadata": {},
   "source": [
    "## Save Cleaned Data"
   ]
  },
  {
   "cell_type": "code",
   "execution_count": 21,
   "metadata": {
    "ExecuteTime": {
     "end_time": "2023-05-22T17:04:08.818632Z",
     "start_time": "2023-05-22T17:04:08.381275Z"
    }
   },
   "outputs": [],
   "source": [
    "df_clean.to_csv('../data/dialects_cleaned.csv')"
   ]
  },
  {
   "cell_type": "markdown",
   "metadata": {},
   "source": [
    "## Splitting Data"
   ]
  },
  {
   "cell_type": "code",
   "execution_count": 22,
   "metadata": {
    "ExecuteTime": {
     "end_time": "2023-05-22T17:04:10.362078Z",
     "start_time": "2023-05-22T17:04:10.356924Z"
    },
    "execution": {
     "iopub.execute_input": "2023-05-22T12:45:46.538951Z",
     "iopub.status.busy": "2023-05-22T12:45:46.538584Z",
     "iopub.status.idle": "2023-05-22T12:45:46.544590Z",
     "shell.execute_reply": "2023-05-22T12:45:46.543566Z",
     "shell.execute_reply.started": "2023-05-22T12:45:46.538922Z"
    }
   },
   "outputs": [],
   "source": [
    "def split_data(df):\n",
    "    X = df[\"text\"]\n",
    "    y = df[\"dialect\"]\n",
    "    X_train, X_test, y_train, y_test = train_test_split(X, y, test_size=0.1, random_state=42, stratify=y)\n",
    "    return X_train, X_test, y_train, y_test"
   ]
  },
  {
   "cell_type": "code",
   "execution_count": 23,
   "metadata": {
    "ExecuteTime": {
     "end_time": "2023-05-22T17:04:11.124668Z",
     "start_time": "2023-05-22T17:04:10.957598Z"
    },
    "execution": {
     "iopub.execute_input": "2023-05-22T12:45:46.893908Z",
     "iopub.status.busy": "2023-05-22T12:45:46.893087Z",
     "iopub.status.idle": "2023-05-22T12:45:47.187298Z",
     "shell.execute_reply": "2023-05-22T12:45:47.186243Z",
     "shell.execute_reply.started": "2023-05-22T12:45:46.893875Z"
    }
   },
   "outputs": [],
   "source": [
    "X_train, X_test, y_train, y_test = split_data(df_clean)"
   ]
  },
  {
   "cell_type": "markdown",
   "metadata": {},
   "source": [
    "## Modeling"
   ]
  },
  {
   "cell_type": "markdown",
   "metadata": {},
   "source": [
    "### Pipeline"
   ]
  },
  {
   "cell_type": "code",
   "execution_count": 24,
   "metadata": {
    "ExecuteTime": {
     "end_time": "2023-05-22T17:04:14.749600Z",
     "start_time": "2023-05-22T17:04:12.518979Z"
    },
    "execution": {
     "iopub.execute_input": "2023-05-22T12:44:37.208144Z",
     "iopub.status.busy": "2023-05-22T12:44:37.207196Z",
     "iopub.status.idle": "2023-05-22T12:44:41.561136Z",
     "shell.execute_reply": "2023-05-22T12:44:41.560260Z",
     "shell.execute_reply.started": "2023-05-22T12:44:37.208099Z"
    }
   },
   "outputs": [
    {
     "data": {
      "text/html": [
       "<style>#sk-container-id-1 {color: black;background-color: white;}#sk-container-id-1 pre{padding: 0;}#sk-container-id-1 div.sk-toggleable {background-color: white;}#sk-container-id-1 label.sk-toggleable__label {cursor: pointer;display: block;width: 100%;margin-bottom: 0;padding: 0.3em;box-sizing: border-box;text-align: center;}#sk-container-id-1 label.sk-toggleable__label-arrow:before {content: \"▸\";float: left;margin-right: 0.25em;color: #696969;}#sk-container-id-1 label.sk-toggleable__label-arrow:hover:before {color: black;}#sk-container-id-1 div.sk-estimator:hover label.sk-toggleable__label-arrow:before {color: black;}#sk-container-id-1 div.sk-toggleable__content {max-height: 0;max-width: 0;overflow: hidden;text-align: left;background-color: #f0f8ff;}#sk-container-id-1 div.sk-toggleable__content pre {margin: 0.2em;color: black;border-radius: 0.25em;background-color: #f0f8ff;}#sk-container-id-1 input.sk-toggleable__control:checked~div.sk-toggleable__content {max-height: 200px;max-width: 100%;overflow: auto;}#sk-container-id-1 input.sk-toggleable__control:checked~label.sk-toggleable__label-arrow:before {content: \"▾\";}#sk-container-id-1 div.sk-estimator input.sk-toggleable__control:checked~label.sk-toggleable__label {background-color: #d4ebff;}#sk-container-id-1 div.sk-label input.sk-toggleable__control:checked~label.sk-toggleable__label {background-color: #d4ebff;}#sk-container-id-1 input.sk-hidden--visually {border: 0;clip: rect(1px 1px 1px 1px);clip: rect(1px, 1px, 1px, 1px);height: 1px;margin: -1px;overflow: hidden;padding: 0;position: absolute;width: 1px;}#sk-container-id-1 div.sk-estimator {font-family: monospace;background-color: #f0f8ff;border: 1px dotted black;border-radius: 0.25em;box-sizing: border-box;margin-bottom: 0.5em;}#sk-container-id-1 div.sk-estimator:hover {background-color: #d4ebff;}#sk-container-id-1 div.sk-parallel-item::after {content: \"\";width: 100%;border-bottom: 1px solid gray;flex-grow: 1;}#sk-container-id-1 div.sk-label:hover label.sk-toggleable__label {background-color: #d4ebff;}#sk-container-id-1 div.sk-serial::before {content: \"\";position: absolute;border-left: 1px solid gray;box-sizing: border-box;top: 0;bottom: 0;left: 50%;z-index: 0;}#sk-container-id-1 div.sk-serial {display: flex;flex-direction: column;align-items: center;background-color: white;padding-right: 0.2em;padding-left: 0.2em;position: relative;}#sk-container-id-1 div.sk-item {position: relative;z-index: 1;}#sk-container-id-1 div.sk-parallel {display: flex;align-items: stretch;justify-content: center;background-color: white;position: relative;}#sk-container-id-1 div.sk-item::before, #sk-container-id-1 div.sk-parallel-item::before {content: \"\";position: absolute;border-left: 1px solid gray;box-sizing: border-box;top: 0;bottom: 0;left: 50%;z-index: -1;}#sk-container-id-1 div.sk-parallel-item {display: flex;flex-direction: column;z-index: 1;position: relative;background-color: white;}#sk-container-id-1 div.sk-parallel-item:first-child::after {align-self: flex-end;width: 50%;}#sk-container-id-1 div.sk-parallel-item:last-child::after {align-self: flex-start;width: 50%;}#sk-container-id-1 div.sk-parallel-item:only-child::after {width: 0;}#sk-container-id-1 div.sk-dashed-wrapped {border: 1px dashed gray;margin: 0 0.4em 0.5em 0.4em;box-sizing: border-box;padding-bottom: 0.4em;background-color: white;}#sk-container-id-1 div.sk-label label {font-family: monospace;font-weight: bold;display: inline-block;line-height: 1.2em;}#sk-container-id-1 div.sk-label-container {text-align: center;}#sk-container-id-1 div.sk-container {/* jupyter's `normalize.less` sets `[hidden] { display: none; }` but bootstrap.min.css set `[hidden] { display: none !important; }` so we also need the `!important` here to be able to override the default hidden behavior on the sphinx rendered scikit-learn.org. See: https://github.com/scikit-learn/scikit-learn/issues/21755 */display: inline-block !important;position: relative;}#sk-container-id-1 div.sk-text-repr-fallback {display: none;}</style><div id=\"sk-container-id-1\" class=\"sk-top-container\"><div class=\"sk-text-repr-fallback\"><pre>Pipeline(steps=[(&#x27;Vectorizer&#x27;, TfidfVectorizer()),\n",
       "                (&#x27;classifier&#x27;, ComplementNB(alpha=0.3))])</pre><b>In a Jupyter environment, please rerun this cell to show the HTML representation or trust the notebook. <br />On GitHub, the HTML representation is unable to render, please try loading this page with nbviewer.org.</b></div><div class=\"sk-container\" hidden><div class=\"sk-item sk-dashed-wrapped\"><div class=\"sk-label-container\"><div class=\"sk-label sk-toggleable\"><input class=\"sk-toggleable__control sk-hidden--visually\" id=\"sk-estimator-id-1\" type=\"checkbox\" ><label for=\"sk-estimator-id-1\" class=\"sk-toggleable__label sk-toggleable__label-arrow\">Pipeline</label><div class=\"sk-toggleable__content\"><pre>Pipeline(steps=[(&#x27;Vectorizer&#x27;, TfidfVectorizer()),\n",
       "                (&#x27;classifier&#x27;, ComplementNB(alpha=0.3))])</pre></div></div></div><div class=\"sk-serial\"><div class=\"sk-item\"><div class=\"sk-estimator sk-toggleable\"><input class=\"sk-toggleable__control sk-hidden--visually\" id=\"sk-estimator-id-2\" type=\"checkbox\" ><label for=\"sk-estimator-id-2\" class=\"sk-toggleable__label sk-toggleable__label-arrow\">TfidfVectorizer</label><div class=\"sk-toggleable__content\"><pre>TfidfVectorizer()</pre></div></div></div><div class=\"sk-item\"><div class=\"sk-estimator sk-toggleable\"><input class=\"sk-toggleable__control sk-hidden--visually\" id=\"sk-estimator-id-3\" type=\"checkbox\" ><label for=\"sk-estimator-id-3\" class=\"sk-toggleable__label sk-toggleable__label-arrow\">ComplementNB</label><div class=\"sk-toggleable__content\"><pre>ComplementNB(alpha=0.3)</pre></div></div></div></div></div></div></div>"
      ],
      "text/plain": [
       "Pipeline(steps=[('Vectorizer', TfidfVectorizer()),\n",
       "                ('classifier', ComplementNB(alpha=0.3))])"
      ]
     },
     "execution_count": 24,
     "metadata": {},
     "output_type": "execute_result"
    }
   ],
   "source": [
    "final_model = ComplementNB(alpha=0.3)\n",
    "pipe = Pipeline([(\"Vectorizer\", TfidfVectorizer()), (\"classifier\", final_model)])\n",
    "pipe.fit(X_train, y_train)"
   ]
  },
  {
   "cell_type": "markdown",
   "metadata": {},
   "source": [
    "### Save Model"
   ]
  },
  {
   "cell_type": "code",
   "execution_count": 25,
   "metadata": {
    "ExecuteTime": {
     "end_time": "2023-05-22T17:04:15.853723Z",
     "start_time": "2023-05-22T17:04:15.849528Z"
    },
    "execution": {
     "iopub.execute_input": "2023-05-22T12:51:39.683716Z",
     "iopub.status.busy": "2023-05-22T12:51:39.683339Z",
     "iopub.status.idle": "2023-05-22T12:51:39.687794Z",
     "shell.execute_reply": "2023-05-22T12:51:39.686865Z",
     "shell.execute_reply.started": "2023-05-22T12:51:39.683687Z"
    }
   },
   "outputs": [],
   "source": [
    "ML_MODEL_PATH = '../models/ml_model.pkl'"
   ]
  },
  {
   "cell_type": "code",
   "execution_count": 28,
   "metadata": {
    "ExecuteTime": {
     "end_time": "2023-05-22T17:04:32.514477Z",
     "start_time": "2023-05-22T17:04:32.506517Z"
    },
    "execution": {
     "iopub.execute_input": "2023-05-22T12:49:09.452019Z",
     "iopub.status.busy": "2023-05-22T12:49:09.451614Z",
     "iopub.status.idle": "2023-05-22T12:49:09.462096Z",
     "shell.execute_reply": "2023-05-22T12:49:09.461104Z",
     "shell.execute_reply.started": "2023-05-22T12:49:09.451988Z"
    }
   },
   "outputs": [],
   "source": [
    "def save_ml_model(model, path=ML_MODEL_PATH):\n",
    "    joblib.dump(model, path)\n",
    "\n",
    "\n",
    "def load_ml_model(path=ML_MODEL_PATH):\n",
    "    model = joblib.load(path)\n",
    "    return model"
   ]
  },
  {
   "cell_type": "code",
   "execution_count": 29,
   "metadata": {
    "ExecuteTime": {
     "end_time": "2023-05-22T17:04:34.339400Z",
     "start_time": "2023-05-22T17:04:32.989541Z"
    },
    "execution": {
     "iopub.execute_input": "2023-05-22T12:49:10.166502Z",
     "iopub.status.busy": "2023-05-22T12:49:10.165434Z",
     "iopub.status.idle": "2023-05-22T12:49:13.652553Z",
     "shell.execute_reply": "2023-05-22T12:49:13.651555Z",
     "shell.execute_reply.started": "2023-05-22T12:49:10.166458Z"
    }
   },
   "outputs": [],
   "source": [
    "save_ml_model(pipe, ML_MODEL_PATH)\n",
    "model = load_ml_model(ML_MODEL_PATH)"
   ]
  },
  {
   "cell_type": "markdown",
   "metadata": {},
   "source": [
    "## Evaluation"
   ]
  },
  {
   "cell_type": "code",
   "execution_count": 30,
   "metadata": {
    "ExecuteTime": {
     "end_time": "2023-05-22T17:04:40.026110Z",
     "start_time": "2023-05-22T17:04:40.019653Z"
    },
    "execution": {
     "iopub.execute_input": "2023-05-22T12:50:35.333793Z",
     "iopub.status.busy": "2023-05-22T12:50:35.333434Z",
     "iopub.status.idle": "2023-05-22T12:50:35.342051Z",
     "shell.execute_reply": "2023-05-22T12:50:35.341018Z",
     "shell.execute_reply.started": "2023-05-22T12:50:35.333765Z"
    }
   },
   "outputs": [],
   "source": [
    "def eval_ml(path=ML_MODEL_PATH):\n",
    "    model = load_ml_model(path)\n",
    "    y_pred = model.predict(X_test)\n",
    "    accuracy = accuracy_score(y_test, y_pred)\n",
    "    macro_f1_score = f1_score(y_test, y_pred, average=\"macro\")\n",
    "    print(f\"Testing ML:\\nAccuracy: {accuracy}\")\n",
    "    print(f\"Macro F1 score: {macro_f1_score}\")\n",
    "    return accuracy, macro_f1_score"
   ]
  },
  {
   "cell_type": "code",
   "execution_count": 31,
   "metadata": {
    "ExecuteTime": {
     "end_time": "2023-05-22T17:04:41.292308Z",
     "start_time": "2023-05-22T17:04:40.572562Z"
    },
    "execution": {
     "iopub.execute_input": "2023-05-22T12:51:12.918753Z",
     "iopub.status.busy": "2023-05-22T12:51:12.918330Z",
     "iopub.status.idle": "2023-05-22T12:51:14.759707Z",
     "shell.execute_reply": "2023-05-22T12:51:14.758742Z",
     "shell.execute_reply.started": "2023-05-22T12:51:12.918720Z"
    }
   },
   "outputs": [
    {
     "name": "stdout",
     "output_type": "stream",
     "text": [
      "Testing ML:\n",
      "Accuracy: 0.8376768428890543\n",
      "Macro F1 score: 0.7994041658446861\n"
     ]
    }
   ],
   "source": [
    "ml_accuracy, ml_macro_f1_score = eval_ml(ML_MODEL_PATH)"
   ]
  },
  {
   "cell_type": "markdown",
   "metadata": {},
   "source": [
    "### Prediction"
   ]
  },
  {
   "cell_type": "code",
   "execution_count": 16,
   "metadata": {
    "ExecuteTime": {
     "end_time": "2023-05-22T14:43:54.676347Z",
     "start_time": "2023-05-22T14:43:54.673158Z"
    },
    "execution": {
     "iopub.execute_input": "2023-05-22T12:53:19.407200Z",
     "iopub.status.busy": "2023-05-22T12:53:19.406826Z",
     "iopub.status.idle": "2023-05-22T12:53:19.416112Z",
     "shell.execute_reply": "2023-05-22T12:53:19.415153Z",
     "shell.execute_reply.started": "2023-05-22T12:53:19.407171Z"
    }
   },
   "outputs": [],
   "source": [
    "def predict_ml(sentence: str, path=ML_MODEL_PATH):\n",
    "    \"\"\"For wrangled data\"\"\"\n",
    "    model = load_ml_model(path)\n",
    "    predict_label = model.predict([sentence])\n",
    "    predict_probabiltiy = {\n",
    "        country: prob * 100\n",
    "        for country, prob in zip(model.classes_, model.predict_proba([sentence])[0])\n",
    "    }\n",
    "    print(f\"Dialect Prediction: {predict_label}\\nProbabily: {predict_probabiltiy}\")\n",
    "    return predict_label, predict_probabiltiy"
   ]
  },
  {
   "cell_type": "code",
   "execution_count": 17,
   "metadata": {
    "ExecuteTime": {
     "end_time": "2023-05-22T14:43:55.176611Z",
     "start_time": "2023-05-22T14:43:54.677390Z"
    },
    "execution": {
     "iopub.execute_input": "2023-05-22T12:53:19.944239Z",
     "iopub.status.busy": "2023-05-22T12:53:19.943851Z",
     "iopub.status.idle": "2023-05-22T12:53:21.242371Z",
     "shell.execute_reply": "2023-05-22T12:53:21.241371Z",
     "shell.execute_reply.started": "2023-05-22T12:53:19.944209Z"
    }
   },
   "outputs": [
    {
     "name": "stdout",
     "output_type": "stream",
     "text": [
      "Dialect Prediction: ['EG']\n",
      "Probabily: {'EG': 23.97523662167075, 'LB': 15.804329054132648, 'LY': 20.511809886955135, 'MA': 21.387492799872508, 'SD': 18.321131637368932}\n"
     ]
    }
   ],
   "source": [
    "sentence = 'الحمد لله'\n",
    "\n",
    "model_prediction, predict_probabiltiy = predict_ml(sentence)"
   ]
  },
  {
   "cell_type": "markdown",
   "metadata": {
    "execution": {
     "iopub.execute_input": "2023-05-18T20:52:40.072713Z",
     "iopub.status.busy": "2023-05-18T20:52:40.072306Z",
     "iopub.status.idle": "2023-05-18T20:52:40.096200Z",
     "shell.execute_reply": "2023-05-18T20:52:40.094782Z",
     "shell.execute_reply.started": "2023-05-18T20:52:40.072659Z"
    }
   },
   "source": [
    "# DeepLearning"
   ]
  },
  {
   "cell_type": "code",
   "execution_count": 18,
   "metadata": {
    "ExecuteTime": {
     "end_time": "2023-05-22T14:43:55.179953Z",
     "start_time": "2023-05-22T14:43:55.177677Z"
    },
    "execution": {
     "iopub.status.busy": "2023-05-22T14:12:56.074926Z",
     "iopub.status.idle": "2023-05-22T14:12:56.076085Z",
     "shell.execute_reply": "2023-05-22T14:12:56.075826Z",
     "shell.execute_reply.started": "2023-05-22T14:12:56.075801Z"
    }
   },
   "outputs": [],
   "source": [
    "NUM_CLASSES = 5\n",
    "EPOCHS = 2\n",
    "BATCH_SIZE = 32\n",
    "MAX_WORDS = 10_000\n",
    "INPUT_LENGTH = MAX_SEQUENCE_LEN = -1\n",
    "DL_MODEL_PATH = '../models/LSTM'\n",
    "SRNN_MODEL_PATH = '../models/SimpleRNN'\n",
    "GRU_MODEL_PATH = '../models/GRU'\n",
    "DL_LABELS_PATH = '../models/dl_labels.pkl'"
   ]
  },
  {
   "cell_type": "markdown",
   "metadata": {},
   "source": [
    "## Data Preprocessing and Splitting"
   ]
  },
  {
   "cell_type": "code",
   "execution_count": 19,
   "metadata": {
    "ExecuteTime": {
     "end_time": "2023-05-22T14:44:02.911409Z",
     "start_time": "2023-05-22T14:43:55.181008Z"
    },
    "execution": {
     "iopub.execute_input": "2023-05-22T13:58:46.290081Z",
     "iopub.status.busy": "2023-05-22T13:58:46.289696Z",
     "iopub.status.idle": "2023-05-22T13:59:02.031221Z",
     "shell.execute_reply": "2023-05-22T13:59:02.030232Z",
     "shell.execute_reply.started": "2023-05-22T13:58:46.290036Z"
    }
   },
   "outputs": [],
   "source": [
    "def wrangle_dl(df):\n",
    "    df_clean = wrangle_ml(df)\n",
    "    X_train, X_test, y_train, y_test = split_data(df_clean)\n",
    "    \n",
    "    #preprocess\n",
    "    max_sequence_len = max(len(sentence) for sentence in X_train)\n",
    "    global INPUT_LENGTH, MAX_SEQUENCE_LEN\n",
    "    INPUT_LENGTH = max_sequence_len\n",
    "    MAX_SEQUENCE_LEN = max_sequence_len\n",
    "    \n",
    "    le = LabelEncoder()\n",
    "    y_train = le.fit_transform(y_train)\n",
    "    y_test = le.transform(y_test)\n",
    "    \n",
    "    joblib.dump(le.classes_, DL_LABELS_PATH)\n",
    "    \n",
    "    tok = Tokenizer(num_words=MAX_WORDS)\n",
    "    tok.fit_on_texts(X_train)\n",
    "\n",
    "    sequences = tok.texts_to_sequences(X_train)\n",
    "    X_train_padded = sequence.pad_sequences(sequences, maxlen=MAX_SEQUENCE_LEN)\n",
    "    y_train_ = to_categorical(y_train)\n",
    "\n",
    "    test_sequences = tok.texts_to_sequences(X_test)\n",
    "    X_test_padded = sequence.pad_sequences(test_sequences, maxlen=MAX_SEQUENCE_LEN)\n",
    "    y_test_ = to_categorical(y_test)\n",
    "\n",
    "    return X_train_padded, X_test_padded, y_train_, y_test_\n",
    "\n",
    "\n",
    "\n",
    "X_train_dl, X_test_dl, y_train_dl, y_test_dl = wrangle_dl(df)"
   ]
  },
  {
   "cell_type": "code",
   "execution_count": 20,
   "metadata": {
    "ExecuteTime": {
     "end_time": "2023-05-22T14:44:02.915404Z",
     "start_time": "2023-05-22T14:44:02.912496Z"
    },
    "execution": {
     "iopub.execute_input": "2023-05-22T13:59:02.033771Z",
     "iopub.status.busy": "2023-05-22T13:59:02.033408Z",
     "iopub.status.idle": "2023-05-22T13:59:02.040871Z",
     "shell.execute_reply": "2023-05-22T13:59:02.039961Z",
     "shell.execute_reply.started": "2023-05-22T13:59:02.033739Z"
    }
   },
   "outputs": [
    {
     "data": {
      "text/plain": [
       "((132952, 275), (132952, 5), (14773, 275), (14773, 5))"
      ]
     },
     "execution_count": 20,
     "metadata": {},
     "output_type": "execute_result"
    }
   ],
   "source": [
    "X_train_dl.shape, y_train_dl.shape, X_test_dl.shape, y_test_dl.shape"
   ]
  },
  {
   "cell_type": "markdown",
   "metadata": {},
   "source": [
    "### Save and load Model"
   ]
  },
  {
   "cell_type": "code",
   "execution_count": 21,
   "metadata": {
    "ExecuteTime": {
     "end_time": "2023-05-22T14:44:02.918451Z",
     "start_time": "2023-05-22T14:44:02.916497Z"
    },
    "execution": {
     "iopub.execute_input": "2023-05-22T13:59:02.043315Z",
     "iopub.status.busy": "2023-05-22T13:59:02.042556Z",
     "iopub.status.idle": "2023-05-22T13:59:02.051046Z",
     "shell.execute_reply": "2023-05-22T13:59:02.050256Z",
     "shell.execute_reply.started": "2023-05-22T13:59:02.043283Z"
    }
   },
   "outputs": [],
   "source": [
    "def save_dl_model(model, path=DL_MODEL_PATH):\n",
    "    model.save(path)\n",
    "\n",
    "\n",
    "def load_dl_model(path=DL_MODEL_PATH):\n",
    "    model = tf.keras.models.load_model(path)\n",
    "    return model"
   ]
  },
  {
   "cell_type": "markdown",
   "metadata": {},
   "source": [
    "### Training Model"
   ]
  },
  {
   "cell_type": "code",
   "execution_count": 22,
   "metadata": {
    "ExecuteTime": {
     "end_time": "2023-05-22T14:44:02.922270Z",
     "start_time": "2023-05-22T14:44:02.919314Z"
    },
    "execution": {
     "iopub.execute_input": "2023-05-22T13:59:02.054157Z",
     "iopub.status.busy": "2023-05-22T13:59:02.053636Z",
     "iopub.status.idle": "2023-05-22T13:59:02.061864Z",
     "shell.execute_reply": "2023-05-22T13:59:02.060878Z",
     "shell.execute_reply.started": "2023-05-22T13:59:02.054124Z"
    }
   },
   "outputs": [],
   "source": [
    "def apply_dl(layer, path):\n",
    "    model = tf.keras.models.Sequential([\n",
    "    tf.keras.layers.Embedding(MAX_WORDS, 64, input_length=INPUT_LENGTH),\n",
    "    layer,\n",
    "    tf.keras.layers.Dense(64, activation='relu'),\n",
    "    tf.keras.layers.Dense(NUM_CLASSES, activation='softmax')\n",
    "])\n",
    "    model.summary()\n",
    "    \n",
    "    \n",
    "    model.compile(loss=tf.keras.losses.CategoricalCrossentropy(),\n",
    "              optimizer=tf.keras.optimizers.Adam(),\n",
    "              metrics=['accuracy', tfa.metrics.F1Score(average='macro', num_classes=NUM_CLASSES)])\n",
    "    \n",
    "    history = model.fit(X_train_dl, y_train_dl, epochs=EPOCHS, batch_size=BATCH_SIZE)\n",
    "    \n",
    "    save_dl_model(model, path)\n",
    "    return history"
   ]
  },
  {
   "cell_type": "markdown",
   "metadata": {},
   "source": [
    "## Simple Vanilla Rnn"
   ]
  },
  {
   "cell_type": "code",
   "execution_count": 23,
   "metadata": {
    "ExecuteTime": {
     "end_time": "2023-05-22T14:48:40.817630Z",
     "start_time": "2023-05-22T14:44:02.929415Z"
    },
    "execution": {
     "iopub.execute_input": "2023-05-22T14:11:18.815946Z",
     "iopub.status.busy": "2023-05-22T14:11:18.815550Z",
     "iopub.status.idle": "2023-05-22T14:12:56.073739Z",
     "shell.execute_reply": "2023-05-22T14:12:56.071962Z",
     "shell.execute_reply.started": "2023-05-22T14:11:18.815915Z"
    },
    "scrolled": true
   },
   "outputs": [
    {
     "name": "stdout",
     "output_type": "stream",
     "text": [
      "Model: \"sequential\"\n",
      "_________________________________________________________________\n",
      " Layer (type)                Output Shape              Param #   \n",
      "=================================================================\n",
      " embedding (Embedding)       (None, 275, 64)           640000    \n",
      "                                                                 \n",
      " simple_rnn (SimpleRNN)      (None, 64)                8256      \n",
      "                                                                 \n",
      " dense (Dense)               (None, 64)                4160      \n",
      "                                                                 \n",
      " dense_1 (Dense)             (None, 5)                 325       \n",
      "                                                                 \n",
      "=================================================================\n",
      "Total params: 652,741\n",
      "Trainable params: 652,741\n",
      "Non-trainable params: 0\n",
      "_________________________________________________________________\n",
      "Epoch 1/2\n",
      "4155/4155 [==============================] - 136s 32ms/step - loss: 0.7580 - accuracy: 0.7234 - f1_score: 0.6553\n",
      "Epoch 2/2\n",
      "4155/4155 [==============================] - 141s 34ms/step - loss: 0.5505 - accuracy: 0.8019 - f1_score: 0.7606\n",
      "INFO:tensorflow:Assets written to: ../models/SimpleRNN/assets\n"
     ]
    }
   ],
   "source": [
    "history_srnn = apply_dl(tf.keras.layers.SimpleRNN(64), SRNN_MODEL_PATH)"
   ]
  },
  {
   "cell_type": "markdown",
   "metadata": {},
   "source": [
    "### Evaluate Model"
   ]
  },
  {
   "cell_type": "code",
   "execution_count": 24,
   "metadata": {
    "ExecuteTime": {
     "end_time": "2023-05-22T14:48:40.822317Z",
     "start_time": "2023-05-22T14:48:40.819015Z"
    },
    "execution": {
     "iopub.status.busy": "2023-05-22T14:09:22.738733Z",
     "iopub.status.idle": "2023-05-22T14:09:22.741152Z",
     "shell.execute_reply": "2023-05-22T14:09:22.740956Z",
     "shell.execute_reply.started": "2023-05-22T14:09:22.740937Z"
    }
   },
   "outputs": [],
   "source": [
    "def eval_dl(X_test, y_test, path=DL_MODEL_PATH):\n",
    "    model = load_dl_model(path)\n",
    "    accuracy, macro_f1_score = model.evaluate(X_test, y_test)[1:]\n",
    "    print(f\"Testing DL:\\nAccuray: {accuracy}\\nMacro F1 Score: {macro_f1_score}\")\n",
    "    return accuracy, macro_f1_score"
   ]
  },
  {
   "cell_type": "code",
   "execution_count": 25,
   "metadata": {
    "ExecuteTime": {
     "end_time": "2023-05-22T14:49:14.604990Z",
     "start_time": "2023-05-22T14:48:40.823916Z"
    },
    "execution": {
     "iopub.status.busy": "2023-05-22T14:09:22.742370Z",
     "iopub.status.idle": "2023-05-22T14:09:22.742837Z",
     "shell.execute_reply": "2023-05-22T14:09:22.742625Z",
     "shell.execute_reply.started": "2023-05-22T14:09:22.742603Z"
    }
   },
   "outputs": [
    {
     "name": "stdout",
     "output_type": "stream",
     "text": [
      "4155/4155 [==============================] - 33s 8ms/step - loss: 0.4328 - accuracy: 0.8473 - f1_score: 0.8181\n",
      "Testing DL:\n",
      "Accuray: 0.8472681641578674\n",
      "Macro F1 Score: 0.8180634379386902\n"
     ]
    }
   ],
   "source": [
    "srnn_accuracy, srnn_macro_f1_score = eval_dl(X_train_dl, y_train_dl, SRNN_MODEL_PATH)"
   ]
  },
  {
   "cell_type": "markdown",
   "metadata": {},
   "source": [
    "## Prediction"
   ]
  },
  {
   "cell_type": "code",
   "execution_count": 26,
   "metadata": {
    "ExecuteTime": {
     "end_time": "2023-05-22T14:49:14.609426Z",
     "start_time": "2023-05-22T14:49:14.606209Z"
    },
    "execution": {
     "iopub.execute_input": "2023-05-22T13:59:25.691226Z",
     "iopub.status.busy": "2023-05-22T13:59:25.690817Z",
     "iopub.status.idle": "2023-05-22T13:59:25.698319Z",
     "shell.execute_reply": "2023-05-22T13:59:25.697266Z",
     "shell.execute_reply.started": "2023-05-22T13:59:25.691187Z"
    }
   },
   "outputs": [],
   "source": [
    "def predict_dl(sentence: str, path=DL_MODEL_PATH):\n",
    "    model = load_dl_model(path)\n",
    "    tokenizer = Tokenizer(num_words=MAX_WORDS)\n",
    "    tokenizer.fit_on_texts([sentence])\n",
    "    input_seq = tokenizer.texts_to_sequences([sentence])\n",
    "    padded_seq = pad_sequences(input_seq, maxlen=MAX_SEQUENCE_LEN)\n",
    "    labels = joblib.load(DL_LABELS_PATH)\n",
    "    _predict_probabiltiy = dict(zip(labels, model.predict(padded_seq)[0]))\n",
    "    predict_probabiltiy = {k: v * 100 for k, v in _predict_probabiltiy.items()}\n",
    "    predict_label = max(predict_probabiltiy, key=predict_probabiltiy.get)\n",
    "    print(f\"Dialect Prediction: {predict_label}\\nProbabily: {predict_probabiltiy}\")\n",
    "    return predict_label, predict_probabiltiy"
   ]
  },
  {
   "cell_type": "code",
   "execution_count": 27,
   "metadata": {
    "ExecuteTime": {
     "end_time": "2023-05-22T14:49:15.243318Z",
     "start_time": "2023-05-22T14:49:14.610499Z"
    },
    "execution": {
     "iopub.execute_input": "2023-05-22T13:59:26.449513Z",
     "iopub.status.busy": "2023-05-22T13:59:26.448846Z",
     "iopub.status.idle": "2023-05-22T13:59:26.526616Z",
     "shell.execute_reply": "2023-05-22T13:59:26.525264Z",
     "shell.execute_reply.started": "2023-05-22T13:59:26.449469Z"
    }
   },
   "outputs": [
    {
     "name": "stdout",
     "output_type": "stream",
     "text": [
      "1/1 [==============================] - 0s 108ms/step\n",
      "Dialect Prediction: LY\n",
      "Probabily: {'EG': 37.45577335357666, 'LB': 2.936970070004463, 'LY': 55.25919795036316, 'MA': 2.8830254450440407, 'SD': 1.4650274999439716}\n"
     ]
    }
   ],
   "source": [
    "srnn_prediction, srnn_probabiltiy = predict_dl(sentence, path=SRNN_MODEL_PATH)"
   ]
  },
  {
   "cell_type": "markdown",
   "metadata": {},
   "source": [
    "## GRU"
   ]
  },
  {
   "cell_type": "code",
   "execution_count": 28,
   "metadata": {
    "ExecuteTime": {
     "end_time": "2023-05-22T14:59:13.942562Z",
     "start_time": "2023-05-22T14:49:15.244419Z"
    },
    "execution": {
     "iopub.execute_input": "2023-05-22T13:59:30.444954Z",
     "iopub.status.busy": "2023-05-22T13:59:30.444600Z",
     "iopub.status.idle": "2023-05-22T14:01:58.121676Z",
     "shell.execute_reply": "2023-05-22T14:01:58.120657Z",
     "shell.execute_reply.started": "2023-05-22T13:59:30.444924Z"
    }
   },
   "outputs": [
    {
     "name": "stdout",
     "output_type": "stream",
     "text": [
      "Model: \"sequential_1\"\n",
      "_________________________________________________________________\n",
      " Layer (type)                Output Shape              Param #   \n",
      "=================================================================\n",
      " embedding_1 (Embedding)     (None, 275, 64)           640000    \n",
      "                                                                 \n",
      " gru (GRU)                   (None, 64)                24960     \n",
      "                                                                 \n",
      " dense_2 (Dense)             (None, 64)                4160      \n",
      "                                                                 \n",
      " dense_3 (Dense)             (None, 5)                 325       \n",
      "                                                                 \n",
      "=================================================================\n",
      "Total params: 669,445\n",
      "Trainable params: 669,445\n",
      "Non-trainable params: 0\n",
      "_________________________________________________________________\n",
      "Epoch 1/2\n",
      "4155/4155 [==============================] - 298s 71ms/step - loss: 0.6568 - accuracy: 0.7595 - f1_score: 0.7075\n",
      "Epoch 2/2\n",
      " 501/4155 [==>...........................] - ETA: 4:26 - loss: 0.4571 - accuracy: 0.8369 - f1_score: 0.803"
     ]
    },
    {
     "data": {
      "text/html": [
       "<b>limit_output extension: Maximum message size of 1000000 exceeded with 1000050 characters</b>"
      ]
     },
     "metadata": {},
     "output_type": "display_data"
    }
   ],
   "source": [
    "history_gru = apply_dl(tf.keras.layers.GRU(64), GRU_MODEL_PATH)"
   ]
  },
  {
   "cell_type": "markdown",
   "metadata": {},
   "source": [
    "### Evaluate Model"
   ]
  },
  {
   "cell_type": "code",
   "execution_count": 29,
   "metadata": {
    "ExecuteTime": {
     "end_time": "2023-05-22T15:00:45.759804Z",
     "start_time": "2023-05-22T14:59:13.943956Z"
    },
    "execution": {
     "iopub.execute_input": "2023-05-22T14:01:58.123990Z",
     "iopub.status.busy": "2023-05-22T14:01:58.123652Z"
    }
   },
   "outputs": [
    {
     "name": "stdout",
     "output_type": "stream",
     "text": [
      "4155/4155 [==============================] - 91s 22ms/step - loss: 0.3849 - accuracy: 0.8645 - f1_score: 0.8388\n",
      "Testing DL:\n",
      "Accuray: 0.8645375967025757\n",
      "Macro F1 Score: 0.8387897610664368\n"
     ]
    },
    {
     "data": {
      "text/plain": [
       "(0.8645375967025757, 0.8387897610664368)"
      ]
     },
     "execution_count": 29,
     "metadata": {},
     "output_type": "execute_result"
    }
   ],
   "source": [
    "eval_dl(X_train_dl, y_train_dl, GRU_MODEL_PATH)"
   ]
  },
  {
   "cell_type": "markdown",
   "metadata": {},
   "source": [
    "### Prediction"
   ]
  },
  {
   "cell_type": "code",
   "execution_count": 30,
   "metadata": {
    "ExecuteTime": {
     "end_time": "2023-05-22T15:00:46.926448Z",
     "start_time": "2023-05-22T15:00:45.760749Z"
    },
    "execution": {
     "iopub.execute_input": "2023-05-22T14:04:22.023725Z",
     "iopub.status.busy": "2023-05-22T14:04:22.023112Z",
     "iopub.status.idle": "2023-05-22T14:04:24.871700Z",
     "shell.execute_reply": "2023-05-22T14:04:24.870735Z",
     "shell.execute_reply.started": "2023-05-22T14:04:22.023691Z"
    }
   },
   "outputs": [
    {
     "name": "stdout",
     "output_type": "stream",
     "text": [
      "1/1 [==============================] - 0s 209ms/step\n",
      "Dialect Prediction: LY\n",
      "Probabily: {'EG': 39.78680670261383, 'LB': 9.225909411907196, 'LY': 46.57643735408783, 'MA': 3.0645091086626053, 'SD': 1.3463341630995274}\n"
     ]
    }
   ],
   "source": [
    "gru_prediction, gru_probabiltiy = predict_dl(sentence, path=GRU_MODEL_PATH)"
   ]
  },
  {
   "cell_type": "markdown",
   "metadata": {},
   "source": [
    "## LSTM"
   ]
  },
  {
   "cell_type": "code",
   "execution_count": 31,
   "metadata": {
    "ExecuteTime": {
     "end_time": "2023-05-22T15:11:37.492365Z",
     "start_time": "2023-05-22T15:00:46.927553Z"
    },
    "execution": {
     "iopub.execute_input": "2023-05-22T14:04:38.431638Z",
     "iopub.status.busy": "2023-05-22T14:04:38.431087Z",
     "iopub.status.idle": "2023-05-22T14:06:13.110032Z",
     "shell.execute_reply": "2023-05-22T14:06:13.109086Z",
     "shell.execute_reply.started": "2023-05-22T14:04:38.431597Z"
    }
   },
   "outputs": [
    {
     "name": "stdout",
     "output_type": "stream",
     "text": [
      "Model: \"sequential_2\"\n",
      "_________________________________________________________________\n",
      " Layer (type)                Output Shape              Param #   \n",
      "=================================================================\n",
      " embedding_2 (Embedding)     (None, 275, 64)           640000    \n",
      "                                                                 \n",
      " lstm (LSTM)                 (None, 64)                33024     \n",
      "                                                                 \n",
      " dense_4 (Dense)             (None, 64)                4160      \n",
      "                                                                 \n",
      " dense_5 (Dense)             (None, 5)                 325       \n",
      "                                                                 \n",
      "=================================================================\n",
      "Total params: 677,509\n",
      "Trainable params: 677,509\n",
      "Non-trainable params: 0\n",
      "_________________________________________________________________\n",
      "Epoch 1/2\n",
      "4155/4155 [==============================] - 325s 78ms/step - loss: 0.6615 - accuracy: 0.7585 - f1_score: 0.7040\n",
      "Epoch 2/2\n",
      " 500/4155 [==>...........................] - ETA: 4:44 - loss: 0.4582 - accuracy: 0.8349 - f1_score: 0.803"
     ]
    },
    {
     "data": {
      "text/html": [
       "<b>limit_output extension: Maximum message size of 1000000 exceeded with 1000021 characters</b>"
      ]
     },
     "metadata": {},
     "output_type": "display_data"
    }
   ],
   "source": [
    "history_lstm = apply_dl(tf.keras.layers.LSTM(64), DL_MODEL_PATH)"
   ]
  },
  {
   "cell_type": "markdown",
   "metadata": {},
   "source": [
    "### Evaluate Model"
   ]
  },
  {
   "cell_type": "code",
   "execution_count": 32,
   "metadata": {
    "ExecuteTime": {
     "end_time": "2023-05-22T15:13:37.522631Z",
     "start_time": "2023-05-22T15:11:37.493505Z"
    },
    "execution": {
     "iopub.execute_input": "2023-05-22T14:06:13.118142Z",
     "iopub.status.busy": "2023-05-22T14:06:13.115923Z",
     "iopub.status.idle": "2023-05-22T14:06:45.639995Z",
     "shell.execute_reply": "2023-05-22T14:06:45.639090Z",
     "shell.execute_reply.started": "2023-05-22T14:06:13.118105Z"
    }
   },
   "outputs": [
    {
     "name": "stdout",
     "output_type": "stream",
     "text": [
      "4155/4155 [==============================] - 119s 29ms/step - loss: 0.3933 - accuracy: 0.8604 - f1_score: 0.8333\n",
      "Testing DL:\n",
      "Accuray: 0.8603706359863281\n",
      "Macro F1 Score: 0.8333292007446289\n"
     ]
    },
    {
     "data": {
      "text/plain": [
       "(0.8603706359863281, 0.8333292007446289)"
      ]
     },
     "execution_count": 32,
     "metadata": {},
     "output_type": "execute_result"
    }
   ],
   "source": [
    "eval_dl(X_train_dl, y_train_dl, DL_MODEL_PATH)"
   ]
  },
  {
   "cell_type": "markdown",
   "metadata": {},
   "source": [
    "### Prediction"
   ]
  },
  {
   "cell_type": "code",
   "execution_count": 33,
   "metadata": {
    "ExecuteTime": {
     "end_time": "2023-05-22T15:13:38.986140Z",
     "start_time": "2023-05-22T15:13:37.523776Z"
    },
    "execution": {
     "iopub.execute_input": "2023-05-22T14:06:45.642005Z",
     "iopub.status.busy": "2023-05-22T14:06:45.641610Z",
     "iopub.status.idle": "2023-05-22T14:06:48.794025Z",
     "shell.execute_reply": "2023-05-22T14:06:48.792891Z",
     "shell.execute_reply.started": "2023-05-22T14:06:45.641969Z"
    }
   },
   "outputs": [
    {
     "name": "stdout",
     "output_type": "stream",
     "text": [
      "1/1 [==============================] - 0s 224ms/step\n",
      "Dialect Prediction: LY\n",
      "Probabily: {'EG': 39.47210907936096, 'LB': 5.76515793800354, 'LY': 51.47704482078552, 'MA': 2.0826809108257294, 'SD': 1.2030051089823246}\n"
     ]
    }
   ],
   "source": [
    "lstm_prediction, lstm_probabiltiy = predict_dl(sentence, path=DL_MODEL_PATH)"
   ]
  }
 ],
 "metadata": {
  "colab": {
   "provenance": []
  },
  "hide_input": false,
  "kernelspec": {
   "display_name": "Python 3 (ipykernel)",
   "language": "python",
   "name": "python3"
  },
  "language_info": {
   "codemirror_mode": {
    "name": "ipython",
    "version": 3
   },
   "file_extension": ".py",
   "mimetype": "text/x-python",
   "name": "python",
   "nbconvert_exporter": "python",
   "pygments_lexer": "ipython3",
   "version": "3.8.16"
  },
  "nbTranslate": {
   "displayLangs": [
    "*"
   ],
   "hotkey": "alt-t",
   "langInMainMenu": true,
   "sourceLang": "en",
   "targetLang": "fr",
   "useGoogleTranslate": true
  },
  "toc": {
   "base_numbering": 1,
   "nav_menu": {},
   "number_sections": true,
   "sideBar": true,
   "skip_h1_title": false,
   "title_cell": "Table of Contents",
   "title_sidebar": "Contents",
   "toc_cell": false,
   "toc_position": {},
   "toc_section_display": true,
   "toc_window_display": false
  },
  "varInspector": {
   "cols": {
    "lenName": 16,
    "lenType": 16,
    "lenVar": 40
   },
   "kernels_config": {
    "python": {
     "delete_cmd_postfix": "",
     "delete_cmd_prefix": "del ",
     "library": "var_list.py",
     "varRefreshCmd": "print(var_dic_list())"
    },
    "r": {
     "delete_cmd_postfix": ") ",
     "delete_cmd_prefix": "rm(",
     "library": "var_list.r",
     "varRefreshCmd": "cat(var_dic_list()) "
    }
   },
   "types_to_exclude": [
    "module",
    "function",
    "builtin_function_or_method",
    "instance",
    "_Feature"
   ],
   "window_display": false
  }
 },
 "nbformat": 4,
 "nbformat_minor": 4
}
